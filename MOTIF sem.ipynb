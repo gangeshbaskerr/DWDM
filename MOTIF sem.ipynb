{
 "cells": [
  {
   "cell_type": "code",
   "execution_count": null,
   "metadata": {
    "colab": {
     "base_uri": "https://localhost:8080/"
    },
    "id": "KtTV52o4G9ln",
    "outputId": "80ea77c1-a54f-46e6-b037-0f53cd19a8c8"
   },
   "outputs": [
    {
     "name": "stdout",
     "output_type": "stream",
     "text": [
      "Non-trivial motifs:\n",
      "Motif: [32, 45, 24], Distance: 0.0\n",
      "Motif: [32, 45, 24], Distance: 0.0\n"
     ]
    }
   ],
   "source": [
    "import numpy as np\n",
    "\n",
    "def euclidean_distance(subsequence1, subsequence2):\n",
    "    return np.linalg.norm(np.array(subsequence1) - np.array(subsequence2))\n",
    "\n",
    "def find_non_trivial_motifs(time_series, window_size, threshold):\n",
    "    motifs = []\n",
    "    series_length = len(time_series)\n",
    "\n",
    "    for i in range(series_length - window_size + 1):\n",
    "        subsequence1 = time_series[i:i+window_size]\n",
    "\n",
    "        min_distance = float('inf')\n",
    "\n",
    "        for j in range(series_length - window_size + 1):\n",
    "            if i != j:\n",
    "                subsequence2 = time_series[j:j+window_size]\n",
    "                distance = euclidean_distance(subsequence1, subsequence2)\n",
    "\n",
    "                if distance < min_distance:\n",
    "                    min_distance = distance\n",
    "\n",
    "        if min_distance <= threshold:\n",
    "            motifs.append((subsequence1, min_distance))\n",
    "\n",
    "    return motifs\n",
    "\n",
    "time_series = [28,32,44,24,23,32,45,24,32,45,24,42,48,41]\n",
    "window_size = 3\n",
    "threshold = 0.02\n",
    "\n",
    "motifs = find_non_trivial_motifs(time_series, window_size, threshold)\n",
    "\n",
    "print(\"Non-trivial motifs:\")\n",
    "for motif, distance in motifs:\n",
    "    print(f\"Motif: {motif}, Distance: {distance}\")\n"
   ]
  },
  {
   "cell_type": "code",
   "execution_count": null,
   "metadata": {
    "id": "WmMV6PqMG-PW"
   },
   "outputs": [],
   "source": []
  }
 ],
 "metadata": {
  "colab": {
   "provenance": []
  },
  "kernelspec": {
   "display_name": "Python 3 (ipykernel)",
   "language": "python",
   "name": "python3"
  },
  "language_info": {
   "codemirror_mode": {
    "name": "ipython",
    "version": 3
   },
   "file_extension": ".py",
   "mimetype": "text/x-python",
   "name": "python",
   "nbconvert_exporter": "python",
   "pygments_lexer": "ipython3",
   "version": "3.10.9"
  }
 },
 "nbformat": 4,
 "nbformat_minor": 1
}
