{
 "cells": [
  {
   "cell_type": "code",
   "execution_count": 8,
   "id": "0544914d",
   "metadata": {},
   "outputs": [],
   "source": [
    "import numpy as np\n",
    "import pandas as pd"
   ]
  },
  {
   "cell_type": "code",
   "execution_count": 9,
   "id": "7280a3b0",
   "metadata": {},
   "outputs": [],
   "source": [
    "data = {\n",
    "    'Over170cm': ['N','Y','N','N','Y','N','Y','Y','Y','N','Y','Y','N'],\n",
    "    'Eyecolor': ['Blue', 'Brown', 'Blue', 'Blue', 'Brown', 'Blue', 'Brown', 'Blue', 'Red', 'Red', 'Red', 'Red', 'Blue'],\n",
    "    'Hairlength': ['short', 'long', 'long', 'short', 'short', 'long', 'short', 'long', 'short', 'short', 'long', 'short', 'long'],\n",
    "    'sex': ['m', 'f', 'f', 'f', 'm', 'f', 'f', 'm', 'm', 'm', 'm', 'f', 'f'],\n",
    "}\n",
    "df = pd.DataFrame(data)"
   ]
  },
  {
   "cell_type": "code",
   "execution_count": 10,
   "id": "ecea5603",
   "metadata": {},
   "outputs": [],
   "source": [
    "def entropy(target_col):\n",
    "    elements, counts = np.unique(target_col, return_counts=True)\n",
    "    entropy_val = -np.sum([(counts[i]/np.sum(counts)) * np.log2(counts[i]/np.sum(counts)) for i in range(len(elements))])\n",
    "    return entropy_val"
   ]
  },
  {
   "cell_type": "code",
   "execution_count": 11,
   "id": "995526ce",
   "metadata": {},
   "outputs": [],
   "source": [
    "def information_gain(data, split_attribute_name, target_name):\n",
    "    total_entropy = entropy(data[target_name])\n",
    "\n",
    "    vals, counts = np.unique(data[split_attribute_name], return_counts=True)\n",
    "\n",
    "    weighted_entropy = np.sum([(counts[i]/np.sum(counts)) * entropy(data.where(data[split_attribute_name] == vals[i]).dropna()[target_name]) for i in range(len(vals))])\n",
    "    \n",
    "    info_gain = total_entropy - weighted_entropy\n",
    "    return info_gain"
   ]
  },
  {
   "cell_type": "code",
   "execution_count": 12,
   "id": "7744c542",
   "metadata": {},
   "outputs": [],
   "source": [
    "def find_best_split(data, target_name, features):\n",
    "    info_gains = {}\n",
    "    for feature in features:\n",
    "        info_gains[feature] = information_gain(data, feature, target_name)\n",
    "    best_split = max(info_gains, key=info_gains.get)\n",
    "    return best_split"
   ]
  },
  {
   "cell_type": "code",
   "execution_count": 13,
   "id": "600ac175",
   "metadata": {},
   "outputs": [],
   "source": [
    "def build_tree(data, target_name, features, depth=0, max_depth=None):\n",
    "    if depth == max_depth or len(np.unique(data[target_name])) == 1:\n",
    "        return np.unique(data[target_name])[0]\n",
    "    else:\n",
    "        best_split = find_best_split(data, target_name, features)\n",
    "        tree = {best_split: {}}\n",
    "        \n",
    "        for value in np.unique(data[best_split]):\n",
    "            sub_data = data.where(data[best_split] == value).dropna()\n",
    "            subtree = build_tree(sub_data, target_name, features, depth + 1, max_depth)\n",
    "            tree[best_split][value] = subtree\n",
    "        return tree"
   ]
  },
  {
   "cell_type": "code",
   "execution_count": 14,
   "id": "cd5d65a4",
   "metadata": {},
   "outputs": [
    {
     "name": "stdout",
     "output_type": "stream",
     "text": [
      "{'Eyecolor': {'Blue': {'Over170cm': {'N': {'Hairlength': {'long': 'f',\n",
      "                                                          'short': 'f'}},\n",
      "                                     'Y': 'm'}},\n",
      "              'Brown': {'Hairlength': {'long': 'f',\n",
      "                                       'short': {'Over170cm': {'Y': 'f'}}}},\n",
      "              'Red': {'Over170cm': {'N': 'm',\n",
      "                                    'Y': {'Hairlength': {'long': 'm',\n",
      "                                                         'short': 'f'}}}}}}\n"
     ]
    }
   ],
   "source": [
    "target_name = 'sex'\n",
    "features = ['Over170cm', 'Eyecolor', 'Hairlength']\n",
    "max_depth = 3\n",
    "decision_tree = build_tree(df, target_name, features, max_depth=max_depth)\n",
    "\n",
    "import pprint\n",
    "pprint.pprint(decision_tree)"
   ]
  },
  {
   "cell_type": "code",
   "execution_count": null,
   "id": "f2633eb4",
   "metadata": {},
   "outputs": [],
   "source": []
  }
 ],
 "metadata": {
  "kernelspec": {
   "display_name": "Python 3 (ipykernel)",
   "language": "python",
   "name": "python3"
  },
  "language_info": {
   "codemirror_mode": {
    "name": "ipython",
    "version": 3
   },
   "file_extension": ".py",
   "mimetype": "text/x-python",
   "name": "python",
   "nbconvert_exporter": "python",
   "pygments_lexer": "ipython3",
   "version": "3.10.9"
  }
 },
 "nbformat": 4,
 "nbformat_minor": 5
}
