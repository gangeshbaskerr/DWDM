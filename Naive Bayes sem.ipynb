{
 "cells": [
  {
   "cell_type": "code",
   "execution_count": 3,
   "id": "0337b698",
   "metadata": {},
   "outputs": [],
   "source": [
    "import pandas as pd\n",
    "import numpy as np\n",
    "import random as rd"
   ]
  },
  {
   "cell_type": "code",
   "execution_count": 31,
   "id": "91be3b2d",
   "metadata": {},
   "outputs": [],
   "source": [
    "Age=['<=30','<=30','31-40','>40','>40','>40','31-40','<=30','<=30','>40','<=30','31-40','31-40','>40']\n",
    "Income=['H','H','H','M','L','L','L','M','L','L','M','M','M','H']\n",
    "Student=['N','N','N','N','Y','Y','Y','N','Y','Y','Y','N','Y','N']\n",
    "credit=['F','E','F','F','F','E','E','F','F','F','E','E','F','E']\n",
    "buys=['N','N','Y','Y','Y','N','Y','N','Y','Y','Y','Y','Y','N']"
   ]
  },
  {
   "cell_type": "code",
   "execution_count": 32,
   "id": "42a9811d",
   "metadata": {},
   "outputs": [
    {
     "data": {
      "text/html": [
       "<div>\n",
       "<style scoped>\n",
       "    .dataframe tbody tr th:only-of-type {\n",
       "        vertical-align: middle;\n",
       "    }\n",
       "\n",
       "    .dataframe tbody tr th {\n",
       "        vertical-align: top;\n",
       "    }\n",
       "\n",
       "    .dataframe thead th {\n",
       "        text-align: right;\n",
       "    }\n",
       "</style>\n",
       "<table border=\"1\" class=\"dataframe\">\n",
       "  <thead>\n",
       "    <tr style=\"text-align: right;\">\n",
       "      <th></th>\n",
       "      <th>Age</th>\n",
       "      <th>Income</th>\n",
       "      <th>Student</th>\n",
       "      <th>Credit</th>\n",
       "      <th>Buys_computer</th>\n",
       "    </tr>\n",
       "  </thead>\n",
       "  <tbody>\n",
       "    <tr>\n",
       "      <th>0</th>\n",
       "      <td>&lt;=30</td>\n",
       "      <td>H</td>\n",
       "      <td>N</td>\n",
       "      <td>F</td>\n",
       "      <td>N</td>\n",
       "    </tr>\n",
       "    <tr>\n",
       "      <th>1</th>\n",
       "      <td>&lt;=30</td>\n",
       "      <td>H</td>\n",
       "      <td>N</td>\n",
       "      <td>E</td>\n",
       "      <td>N</td>\n",
       "    </tr>\n",
       "    <tr>\n",
       "      <th>2</th>\n",
       "      <td>31-40</td>\n",
       "      <td>H</td>\n",
       "      <td>N</td>\n",
       "      <td>F</td>\n",
       "      <td>Y</td>\n",
       "    </tr>\n",
       "    <tr>\n",
       "      <th>3</th>\n",
       "      <td>&gt;40</td>\n",
       "      <td>M</td>\n",
       "      <td>N</td>\n",
       "      <td>F</td>\n",
       "      <td>Y</td>\n",
       "    </tr>\n",
       "    <tr>\n",
       "      <th>4</th>\n",
       "      <td>&gt;40</td>\n",
       "      <td>L</td>\n",
       "      <td>Y</td>\n",
       "      <td>F</td>\n",
       "      <td>Y</td>\n",
       "    </tr>\n",
       "    <tr>\n",
       "      <th>5</th>\n",
       "      <td>&gt;40</td>\n",
       "      <td>L</td>\n",
       "      <td>Y</td>\n",
       "      <td>E</td>\n",
       "      <td>N</td>\n",
       "    </tr>\n",
       "    <tr>\n",
       "      <th>6</th>\n",
       "      <td>31-40</td>\n",
       "      <td>L</td>\n",
       "      <td>Y</td>\n",
       "      <td>E</td>\n",
       "      <td>Y</td>\n",
       "    </tr>\n",
       "    <tr>\n",
       "      <th>7</th>\n",
       "      <td>&lt;=30</td>\n",
       "      <td>M</td>\n",
       "      <td>N</td>\n",
       "      <td>F</td>\n",
       "      <td>N</td>\n",
       "    </tr>\n",
       "    <tr>\n",
       "      <th>8</th>\n",
       "      <td>&lt;=30</td>\n",
       "      <td>L</td>\n",
       "      <td>Y</td>\n",
       "      <td>F</td>\n",
       "      <td>Y</td>\n",
       "    </tr>\n",
       "    <tr>\n",
       "      <th>9</th>\n",
       "      <td>&gt;40</td>\n",
       "      <td>L</td>\n",
       "      <td>Y</td>\n",
       "      <td>F</td>\n",
       "      <td>Y</td>\n",
       "    </tr>\n",
       "    <tr>\n",
       "      <th>10</th>\n",
       "      <td>&lt;=30</td>\n",
       "      <td>M</td>\n",
       "      <td>Y</td>\n",
       "      <td>E</td>\n",
       "      <td>Y</td>\n",
       "    </tr>\n",
       "    <tr>\n",
       "      <th>11</th>\n",
       "      <td>31-40</td>\n",
       "      <td>M</td>\n",
       "      <td>N</td>\n",
       "      <td>E</td>\n",
       "      <td>Y</td>\n",
       "    </tr>\n",
       "    <tr>\n",
       "      <th>12</th>\n",
       "      <td>31-40</td>\n",
       "      <td>M</td>\n",
       "      <td>Y</td>\n",
       "      <td>F</td>\n",
       "      <td>Y</td>\n",
       "    </tr>\n",
       "    <tr>\n",
       "      <th>13</th>\n",
       "      <td>&gt;40</td>\n",
       "      <td>H</td>\n",
       "      <td>N</td>\n",
       "      <td>E</td>\n",
       "      <td>N</td>\n",
       "    </tr>\n",
       "  </tbody>\n",
       "</table>\n",
       "</div>"
      ],
      "text/plain": [
       "      Age Income Student Credit Buys_computer\n",
       "0    <=30      H       N      F             N\n",
       "1    <=30      H       N      E             N\n",
       "2   31-40      H       N      F             Y\n",
       "3     >40      M       N      F             Y\n",
       "4     >40      L       Y      F             Y\n",
       "5     >40      L       Y      E             N\n",
       "6   31-40      L       Y      E             Y\n",
       "7    <=30      M       N      F             N\n",
       "8    <=30      L       Y      F             Y\n",
       "9     >40      L       Y      F             Y\n",
       "10   <=30      M       Y      E             Y\n",
       "11  31-40      M       N      E             Y\n",
       "12  31-40      M       Y      F             Y\n",
       "13    >40      H       N      E             N"
      ]
     },
     "execution_count": 32,
     "metadata": {},
     "output_type": "execute_result"
    }
   ],
   "source": [
    "cube=pd.DataFrame({'Age':Age,'Income':Income,'Student':Student,'Credit':credit,'Buys_computer':buys})\n",
    "cube"
   ]
  },
  {
   "cell_type": "code",
   "execution_count": 33,
   "id": "6ac8d8fe",
   "metadata": {},
   "outputs": [],
   "source": [
    "y_count=0\n",
    "n_count=0\n",
    "for i in range(14):\n",
    "    if cube.Buys_computer[i]=='Y':\n",
    "        y_count+=1\n",
    "    else:\n",
    "        n_count+=1\n",
    "prob_buys_computer_yes=y_count/14\n",
    "prob_buys_computer_no=n_count/14"
   ]
  },
  {
   "cell_type": "code",
   "execution_count": 34,
   "id": "f7a62733",
   "metadata": {},
   "outputs": [],
   "source": [
    "def age_prob(label,attribute):\n",
    "    count=0\n",
    "    for i in range(14):\n",
    "        if(cube.Buys_computer[i]==label and cube.Age[i]==attribute):\n",
    "            count+=1\n",
    "    if(label=='Y'):\n",
    "        prob=count/y_count\n",
    "    else:\n",
    "         prob=count/n_count\n",
    "    return prob"
   ]
  },
  {
   "cell_type": "code",
   "execution_count": 35,
   "id": "9fb7e9dd",
   "metadata": {},
   "outputs": [],
   "source": [
    "def income_prob(label,attribute):\n",
    "    count=0\n",
    "    for i in range(14):\n",
    "        if(cube.Buys_computer[i]==label and cube.Income[i]==attribute):\n",
    "            count+=1\n",
    "    if(label=='Y'):\n",
    "        prob=count/y_count\n",
    "    else:\n",
    "        prob=count/n_count\n",
    "    return prob"
   ]
  },
  {
   "cell_type": "code",
   "execution_count": 36,
   "id": "f5dc548c",
   "metadata": {},
   "outputs": [],
   "source": [
    "def credit_prob(label,attribute):\n",
    "    count=0\n",
    "    for i in range(14):\n",
    "        if(cube.Buys_computer[i]==label and cube.Credit[i]==attribute):\n",
    "            count+=1\n",
    "    if(label=='Y'):\n",
    "        prob=count/y_count\n",
    "    else:\n",
    "        prob=count/n_count\n",
    "    return prob"
   ]
  },
  {
   "cell_type": "code",
   "execution_count": 37,
   "id": "4d218a6b",
   "metadata": {},
   "outputs": [],
   "source": [
    "def student_prob(label,attribute):\n",
    "    count=0\n",
    "    for i in range(14):\n",
    "        if(cube.Buys_computer[i]==label and cube.Student[i]==attribute):\n",
    "            count+=1\n",
    "    if(label=='Y'):\n",
    "        prob=count/y_count\n",
    "    else:\n",
    "        prob=count/n_count\n",
    "    return prob"
   ]
  },
  {
   "cell_type": "code",
   "execution_count": 38,
   "id": "84c7e3ce",
   "metadata": {},
   "outputs": [
    {
     "data": {
      "text/plain": [
       "0.028218694885361547"
      ]
     },
     "execution_count": 38,
     "metadata": {},
     "output_type": "execute_result"
    }
   ],
   "source": [
    "y_result=age_prob('Y','<=30') * income_prob('Y','M') * student_prob('Y','Y') * credit_prob('Y','F') * prob_buys_computer_yes\n",
    "y_result"
   ]
  },
  {
   "cell_type": "code",
   "execution_count": 39,
   "id": "304705e7",
   "metadata": {},
   "outputs": [
    {
     "data": {
      "text/plain": [
       "0.003428571428571429"
      ]
     },
     "execution_count": 39,
     "metadata": {},
     "output_type": "execute_result"
    }
   ],
   "source": [
    "n_result=age_prob('N','<=30') * income_prob('N','M') * student_prob('N','Y') * credit_prob('N','F') * prob_buys_computer_no\n",
    "n_result"
   ]
  },
  {
   "cell_type": "code",
   "execution_count": 40,
   "id": "bd086f59",
   "metadata": {},
   "outputs": [
    {
     "name": "stdout",
     "output_type": "stream",
     "text": [
      "Label: Yes\n"
     ]
    }
   ],
   "source": [
    "if y_result<n_result:\n",
    "    print(\"Label: No\")\n",
    "else:\n",
    "    print(\"Label: Yes\")"
   ]
  },
  {
   "cell_type": "code",
   "execution_count": null,
   "id": "c9f74a62",
   "metadata": {},
   "outputs": [],
   "source": []
  }
 ],
 "metadata": {
  "kernelspec": {
   "display_name": "Python 3 (ipykernel)",
   "language": "python",
   "name": "python3"
  },
  "language_info": {
   "codemirror_mode": {
    "name": "ipython",
    "version": 3
   },
   "file_extension": ".py",
   "mimetype": "text/x-python",
   "name": "python",
   "nbconvert_exporter": "python",
   "pygments_lexer": "ipython3",
   "version": "3.10.9"
  }
 },
 "nbformat": 4,
 "nbformat_minor": 5
}
