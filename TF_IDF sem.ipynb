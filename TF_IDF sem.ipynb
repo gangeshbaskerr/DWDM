{
 "cells": [
  {
   "cell_type": "code",
   "execution_count": 6,
   "metadata": {
    "id": "8SSl4hcpBkuZ"
   },
   "outputs": [],
   "source": [
    "import re\n",
    "import math\n",
    "import numpy as np\n",
    "def preprocess_document(doc):\n",
    "    tokens = re.findall(r'\\b\\w+\\b', doc.lower())\n",
    "    return tokens\n",
    "\n",
    "documents = [\"Covid-19 affects different people in different ways.\",\n",
    "             \"Most people infected with the Covid-19\",\n",
    "             \"Dengue affects different people in different ways.\",\n",
    "             \"Most people infected with the dengue.\"]\n",
    "\n",
    "preprocessed_documents = [preprocess_document(doc) for doc in documents]"
   ]
  },
  {
   "cell_type": "code",
   "execution_count": 7,
   "metadata": {
    "id": "i19yd7jABm21"
   },
   "outputs": [],
   "source": [
    "def calculate_tf(document):\n",
    "    tf = {}\n",
    "    total_words = len(document)\n",
    "    for word in document:\n",
    "        tf[word] = tf.get(word, 0) + 1 / total_words\n",
    "    return tf\n",
    "\n",
    "tf_documents = [calculate_tf(doc) for doc in preprocessed_documents]"
   ]
  },
  {
   "cell_type": "code",
   "execution_count": 8,
   "metadata": {
    "id": "5hYXIVN3CITd"
   },
   "outputs": [],
   "source": [
    "def calculate_idf(corpus, term):\n",
    "    document_count = len(corpus)\n",
    "    term_count = sum(1 for doc in corpus if term in doc)\n",
    "    if term_count == 0:\n",
    "        return 0\n",
    "    return math.log(document_count / term_count)\n",
    "\n",
    "idf_values = {}\n",
    "for doc in preprocessed_documents:\n",
    "    for term in doc:\n",
    "        idf_values[term] = calculate_idf(preprocessed_documents, term)"
   ]
  },
  {
   "cell_type": "code",
   "execution_count": 9,
   "metadata": {
    "id": "Gp0KW9vRCLe7"
   },
   "outputs": [],
   "source": [
    "def calculate_tfidf(tf, idf):\n",
    "    tfidf = {}\n",
    "    for term, tf_value in tf.items():\n",
    "        tfidf[term] = tf_value * idf.get(term, 0)\n",
    "    return tfidf\n",
    "\n",
    "tfidf_documents = [calculate_tfidf(tf, idf_values) for tf in tf_documents]"
   ]
  },
  {
   "cell_type": "code",
   "execution_count": 10,
   "metadata": {
    "id": "mlhSN7ktCM6Q"
   },
   "outputs": [],
   "source": [
    "def jaccard_similarity(set1, set2):\n",
    "    intersection = len(set1 & set2)\n",
    "    union = len(set1 | set2)\n",
    "    return intersection / union if union != 0 else 0\n",
    "\n",
    "document_sets = [set(tfidf.keys()) for tfidf in tfidf_documents]\n",
    "\n",
    "num_documents = len(documents)\n",
    "jaccard_distances = np.zeros((num_documents, num_documents))\n",
    "\n",
    "for i in range(num_documents):\n",
    "    for j in range(i, num_documents):\n",
    "        jaccard_sim = jaccard_similarity(document_sets[i], document_sets[j])\n",
    "        jaccard_distances[i, j] = 1 - jaccard_sim\n",
    "        jaccard_distances[j, i] = 1 - jaccard_sim"
   ]
  },
  {
   "cell_type": "code",
   "execution_count": 11,
   "metadata": {
    "colab": {
     "base_uri": "https://localhost:8080/"
    },
    "id": "Anb-xjnaNoQ5",
    "outputId": "f538834d-f605-4235-e5d5-1602775b8a51"
   },
   "outputs": [
    {
     "name": "stdout",
     "output_type": "stream",
     "text": [
      "Cluster 2:\n",
      "Covid-19 affects different people in different ways.\n",
      "Dengue affects different people in different ways.\n",
      "\n",
      "\n",
      "Cluster 1:\n",
      "Most people infected with the Covid-19\n",
      "Most people infected with the dengue.\n",
      "\n",
      "\n"
     ]
    },
    {
     "name": "stderr",
     "output_type": "stream",
     "text": [
      "C:\\Users\\aakha\\anaconda3\\lib\\site-packages\\sklearn\\cluster\\_agglomerative.py:983: FutureWarning: Attribute `affinity` was deprecated in version 1.2 and will be removed in 1.4. Use `metric` instead\n",
      "  warnings.warn(\n"
     ]
    }
   ],
   "source": [
    "from sklearn.cluster import AgglomerativeClustering\n",
    "\n",
    "num_clusters = 2\n",
    "agnes = AgglomerativeClustering(n_clusters=num_clusters, linkage=\"complete\", affinity=\"precomputed\")\n",
    "agnes.fit(jaccard_distances)\n",
    "labels = agnes.labels_\n",
    "\n",
    "document_clusters = {}\n",
    "for i, label in enumerate(labels):\n",
    "    if label not in document_clusters:\n",
    "        document_clusters[label] = []\n",
    "    document_clusters[label].append(documents[i])\n",
    "\n",
    "for cluster, docs in document_clusters.items():\n",
    "    print(f\"Cluster {cluster + 1}:\")\n",
    "    for doc in docs:\n",
    "        print(doc)\n",
    "    print(\"\\n\")"
   ]
  }
 ],
 "metadata": {
  "colab": {
   "provenance": []
  },
  "kernelspec": {
   "display_name": "Python 3 (ipykernel)",
   "language": "python",
   "name": "python3"
  },
  "language_info": {
   "codemirror_mode": {
    "name": "ipython",
    "version": 3
   },
   "file_extension": ".py",
   "mimetype": "text/x-python",
   "name": "python",
   "nbconvert_exporter": "python",
   "pygments_lexer": "ipython3",
   "version": "3.10.9"
  }
 },
 "nbformat": 4,
 "nbformat_minor": 1
}
