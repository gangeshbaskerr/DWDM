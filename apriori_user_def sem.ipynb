{
 "cells": [
  {
   "cell_type": "code",
   "execution_count": 1,
   "id": "b6178ffb",
   "metadata": {
    "executionInfo": {
     "elapsed": 552,
     "status": "ok",
     "timestamp": 1695317461985,
     "user": {
      "displayName": "Tulip Raaj K",
      "userId": "03898997305248482972"
     },
     "user_tz": -330
    },
    "id": "b6178ffb"
   },
   "outputs": [],
   "source": [
    "import pandas as pd\n",
    "import numpy as np\n",
    "import math"
   ]
  },
  {
   "cell_type": "code",
   "execution_count": 2,
   "id": "c0c298be",
   "metadata": {
    "id": "c0c298be",
    "outputId": "3ff6928b-2db9-44a0-e54a-824cb97105fb"
   },
   "outputs": [
    {
     "data": {
      "text/plain": [
       "[['W1', 'W2', 'W3', 'W4'],\n",
       " ['W1', 'W2', 'W3'],\n",
       " ['W3', 'W4'],\n",
       " ['W1', 'W2', 'W5'],\n",
       " ['W1', 'W3', 'W4'],\n",
       " ['W3', 'W4', 'W5']]"
      ]
     },
     "execution_count": 2,
     "metadata": {},
     "output_type": "execute_result"
    }
   ],
   "source": [
    "transactions = []\n",
    "transactions = [[\"W1\",\"W2\",\"W3\",\"W4\"],\n",
    "                [\"W1\",\"W2\",\"W3\"],\n",
    "                [\"W3\",\"W4\"],\n",
    "                [\"W1\",\"W2\",\"W5\"],\n",
    "                [\"W1\",\"W3\",\"W4\"],\n",
    "                [\"W3\",\"W4\",\"W5\"]]\n",
    "transactions"
   ]
  },
  {
   "cell_type": "code",
   "execution_count": 3,
   "id": "85df4e11",
   "metadata": {
    "executionInfo": {
     "elapsed": 420,
     "status": "ok",
     "timestamp": 1695317594987,
     "user": {
      "displayName": "Tulip Raaj K",
      "userId": "03898997305248482972"
     },
     "user_tz": -330
    },
    "id": "85df4e11"
   },
   "outputs": [],
   "source": [
    "def prune(data,supp):\n",
    "\n",
    "    df = data[data.supp_count >= supp]\n",
    "    return df"
   ]
  },
  {
   "cell_type": "code",
   "execution_count": 4,
   "id": "060e774f",
   "metadata": {
    "id": "060e774f"
   },
   "outputs": [],
   "source": [
    "def count_itemset(trans_df, itemsets):\n",
    "\n",
    "    count_item = {}\n",
    "    for item_set in itemsets:\n",
    "        set_A = set(item_set)\n",
    "        for row in trans_df:\n",
    "            set_B = set(row)\n",
    "\n",
    "            if set_B.intersection(set_A) == set_A:\n",
    "                if item_set in count_item.keys():\n",
    "                    count_item[item_set] += 1\n",
    "\n",
    "                else:\n",
    "                    count_item[item_set] = 1\n",
    "\n",
    "    data = pd.DataFrame()\n",
    "    data['item_sets'] = count_item.keys()\n",
    "    data['supp_count'] = count_item.values()\n",
    "\n",
    "    return data"
   ]
  },
  {
   "cell_type": "code",
   "execution_count": 5,
   "id": "0e8aeba8",
   "metadata": {
    "id": "0e8aeba8"
   },
   "outputs": [],
   "source": [
    "def count_item(trans_items):\n",
    "\n",
    "    count_ind_item = {}\n",
    "    for row in trans_items:\n",
    "        for i in range(len(row)):\n",
    "            if row[i] in count_ind_item.keys():\n",
    "                count_ind_item[row[i]] += 1\n",
    "            else:\n",
    "                count_ind_item[row[i]] = 1\n",
    "\n",
    "    data = pd.DataFrame()\n",
    "    data['item_sets'] = count_ind_item.keys()\n",
    "    data['supp_count'] = count_ind_item.values()\n",
    "    data = data.sort_values('item_sets')\n",
    "    return data"
   ]
  },
  {
   "cell_type": "code",
   "execution_count": 6,
   "id": "31514854",
   "metadata": {
    "id": "31514854"
   },
   "outputs": [],
   "source": [
    "def join(list_of_items):\n",
    "    itemsets = []\n",
    "    i = 1   # w3,w2,w5,w1,w4\n",
    "    for entry in list_of_items:\n",
    "        proceding_items = list_of_items[i:]\n",
    "        for item in proceding_items:\n",
    "            if(type(item) is str):\n",
    "                if entry != item:\n",
    "                    tuples = (entry, item)\n",
    "                    itemsets.append(tuples)\n",
    "            else:\n",
    "                if entry[0:-1] == item[0:-1]:\n",
    "                    tuples = entry+item[1:]\n",
    "                    itemsets.append(tuples)\n",
    "        i = i+1\n",
    "    if(len(itemsets) == 0):\n",
    "        return None\n",
    "    return itemsets"
   ]
  },
  {
   "cell_type": "code",
   "execution_count": 7,
   "id": "25edefac",
   "metadata": {
    "id": "25edefac"
   },
   "outputs": [],
   "source": [
    "def apriori(trans_data,supp=3, con=0.5):\n",
    "    freq = pd.DataFrame()\n",
    "\n",
    "    df = count_item(trans_data)\n",
    "\n",
    "    while(len(df) != 0):\n",
    "\n",
    "        df = prune(df, supp)\n",
    "\n",
    "        if len(df) > 1 or (len(df) == 1 and int(df.supp_count >= supp)):\n",
    "            freq = df\n",
    "\n",
    "        itemsets = join(df.item_sets)\n",
    "\n",
    "        if(itemsets is None):\n",
    "            return freq\n",
    "\n",
    "        df = count_itemset(trans_data, itemsets)\n",
    "    return df"
   ]
  },
  {
   "cell_type": "code",
   "execution_count": 8,
   "id": "a0bc1ce8",
   "metadata": {
    "id": "a0bc1ce8",
    "outputId": "152b07dc-f55d-44e0-cce8-8b7e25835e0b"
   },
   "outputs": [
    {
     "data": {
      "text/html": [
       "<div>\n",
       "<style scoped>\n",
       "    .dataframe tbody tr th:only-of-type {\n",
       "        vertical-align: middle;\n",
       "    }\n",
       "\n",
       "    .dataframe tbody tr th {\n",
       "        vertical-align: top;\n",
       "    }\n",
       "\n",
       "    .dataframe thead th {\n",
       "        text-align: right;\n",
       "    }\n",
       "</style>\n",
       "<table border=\"1\" class=\"dataframe\">\n",
       "  <thead>\n",
       "    <tr style=\"text-align: right;\">\n",
       "      <th></th>\n",
       "      <th>item_sets</th>\n",
       "      <th>supp_count</th>\n",
       "    </tr>\n",
       "  </thead>\n",
       "  <tbody>\n",
       "    <tr>\n",
       "      <th>0</th>\n",
       "      <td>(W1, W2)</td>\n",
       "      <td>3</td>\n",
       "    </tr>\n",
       "    <tr>\n",
       "      <th>1</th>\n",
       "      <td>(W1, W3)</td>\n",
       "      <td>3</td>\n",
       "    </tr>\n",
       "    <tr>\n",
       "      <th>5</th>\n",
       "      <td>(W3, W4)</td>\n",
       "      <td>4</td>\n",
       "    </tr>\n",
       "  </tbody>\n",
       "</table>\n",
       "</div>"
      ],
      "text/plain": [
       "  item_sets  supp_count\n",
       "0  (W1, W2)           3\n",
       "1  (W1, W3)           3\n",
       "5  (W3, W4)           4"
      ]
     },
     "execution_count": 8,
     "metadata": {},
     "output_type": "execute_result"
    }
   ],
   "source": [
    "freq_item_sets = apriori(transactions, 3)\n",
    "freq_item_sets"
   ]
  },
  {
   "cell_type": "code",
   "execution_count": 9,
   "id": "460bcece",
   "metadata": {
    "id": "460bcece"
   },
   "outputs": [],
   "source": [
    "def calculate_conf(value1, value2):\n",
    "    return round(int(value1)/int(value2) * 100, 2)"
   ]
  },
  {
   "cell_type": "code",
   "execution_count": 10,
   "id": "cf2433d9",
   "metadata": {
    "id": "cf2433d9"
   },
   "outputs": [],
   "source": [
    "def strong_rules(freq_item_sets, threshold):\n",
    "\n",
    "    confidences = {}\n",
    "    for row in freq_item_sets.item_sets:\n",
    "        for i in range(len(row)):\n",
    "            for j in range(len(row)):\n",
    "                 if i != j:\n",
    "                    tuples = (row[i], row[j])\n",
    "                    conf = calculate_conf(freq_item_sets[freq_item_sets.item_sets == row].supp_count, count_item(transactions)[count_item(transactions).item_sets == row[i]].supp_count)\n",
    "                    confidences[tuples] = conf\n",
    "\n",
    "\n",
    "    conf_df = pd.DataFrame()\n",
    "    conf_df['item_set'] = confidences.keys()\n",
    "    conf_df['confidence'] = confidences.values()\n",
    "\n",
    "    return conf_df[conf_df.confidence >= threshold]\n",
    "\n"
   ]
  },
  {
   "cell_type": "code",
   "execution_count": 11,
   "id": "98f91ddd",
   "metadata": {
    "id": "98f91ddd",
    "outputId": "5c02f56d-9954-4457-a51f-ef61ee4b93ba"
   },
   "outputs": [
    {
     "data": {
      "text/html": [
       "<div>\n",
       "<style scoped>\n",
       "    .dataframe tbody tr th:only-of-type {\n",
       "        vertical-align: middle;\n",
       "    }\n",
       "\n",
       "    .dataframe tbody tr th {\n",
       "        vertical-align: top;\n",
       "    }\n",
       "\n",
       "    .dataframe thead th {\n",
       "        text-align: right;\n",
       "    }\n",
       "</style>\n",
       "<table border=\"1\" class=\"dataframe\">\n",
       "  <thead>\n",
       "    <tr style=\"text-align: right;\">\n",
       "      <th></th>\n",
       "      <th>item_set</th>\n",
       "      <th>confidence</th>\n",
       "    </tr>\n",
       "  </thead>\n",
       "  <tbody>\n",
       "    <tr>\n",
       "      <th>1</th>\n",
       "      <td>(W2, W1)</td>\n",
       "      <td>100.0</td>\n",
       "    </tr>\n",
       "    <tr>\n",
       "      <th>4</th>\n",
       "      <td>(W3, W4)</td>\n",
       "      <td>80.0</td>\n",
       "    </tr>\n",
       "    <tr>\n",
       "      <th>5</th>\n",
       "      <td>(W4, W3)</td>\n",
       "      <td>100.0</td>\n",
       "    </tr>\n",
       "  </tbody>\n",
       "</table>\n",
       "</div>"
      ],
      "text/plain": [
       "   item_set  confidence\n",
       "1  (W2, W1)       100.0\n",
       "4  (W3, W4)        80.0\n",
       "5  (W4, W3)       100.0"
      ]
     },
     "execution_count": 11,
     "metadata": {},
     "output_type": "execute_result"
    }
   ],
   "source": [
    "strong_rules(freq_item_sets, 80.0)"
   ]
  }
 ],
 "metadata": {
  "colab": {
   "provenance": []
  },
  "kernelspec": {
   "display_name": "Python 3 (ipykernel)",
   "language": "python",
   "name": "python3"
  },
  "language_info": {
   "codemirror_mode": {
    "name": "ipython",
    "version": 3
   },
   "file_extension": ".py",
   "mimetype": "text/x-python",
   "name": "python",
   "nbconvert_exporter": "python",
   "pygments_lexer": "ipython3",
   "version": "3.10.9"
  }
 },
 "nbformat": 4,
 "nbformat_minor": 5
}
