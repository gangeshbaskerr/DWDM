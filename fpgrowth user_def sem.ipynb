{
 "cells": [
  {
   "cell_type": "code",
   "execution_count": 2,
   "id": "99230006",
   "metadata": {
    "scrolled": true
   },
   "outputs": [
    {
     "name": "stdout",
     "output_type": "stream",
     "text": [
      "Collecting mlxtend\n",
      "  Downloading mlxtend-0.23.0-py3-none-any.whl (1.4 MB)\n",
      "     ---------------------------------------- 1.4/1.4 MB 374.5 kB/s eta 0:00:00\n",
      "Requirement already satisfied: scikit-learn>=1.0.2 in c:\\users\\aakha\\anaconda3\\lib\\site-packages (from mlxtend) (1.2.1)\n",
      "Requirement already satisfied: scipy>=1.2.1 in c:\\users\\aakha\\anaconda3\\lib\\site-packages (from mlxtend) (1.10.0)\n",
      "Requirement already satisfied: numpy>=1.16.2 in c:\\users\\aakha\\anaconda3\\lib\\site-packages (from mlxtend) (1.23.5)\n",
      "Requirement already satisfied: joblib>=0.13.2 in c:\\users\\aakha\\anaconda3\\lib\\site-packages (from mlxtend) (1.1.1)\n",
      "Requirement already satisfied: pandas>=0.24.2 in c:\\users\\aakha\\anaconda3\\lib\\site-packages (from mlxtend) (1.5.3)\n",
      "Requirement already satisfied: matplotlib>=3.0.0 in c:\\users\\aakha\\anaconda3\\lib\\site-packages (from mlxtend) (3.7.0)\n",
      "Requirement already satisfied: fonttools>=4.22.0 in c:\\users\\aakha\\anaconda3\\lib\\site-packages (from matplotlib>=3.0.0->mlxtend) (4.25.0)\n",
      "Requirement already satisfied: packaging>=20.0 in c:\\users\\aakha\\anaconda3\\lib\\site-packages (from matplotlib>=3.0.0->mlxtend) (22.0)\n",
      "Requirement already satisfied: pillow>=6.2.0 in c:\\users\\aakha\\anaconda3\\lib\\site-packages (from matplotlib>=3.0.0->mlxtend) (9.4.0)\n",
      "Requirement already satisfied: cycler>=0.10 in c:\\users\\aakha\\anaconda3\\lib\\site-packages (from matplotlib>=3.0.0->mlxtend) (0.11.0)\n",
      "Requirement already satisfied: contourpy>=1.0.1 in c:\\users\\aakha\\anaconda3\\lib\\site-packages (from matplotlib>=3.0.0->mlxtend) (1.0.5)\n",
      "Requirement already satisfied: kiwisolver>=1.0.1 in c:\\users\\aakha\\anaconda3\\lib\\site-packages (from matplotlib>=3.0.0->mlxtend) (1.4.4)\n",
      "Requirement already satisfied: pyparsing>=2.3.1 in c:\\users\\aakha\\anaconda3\\lib\\site-packages (from matplotlib>=3.0.0->mlxtend) (3.0.9)\n",
      "Requirement already satisfied: python-dateutil>=2.7 in c:\\users\\aakha\\anaconda3\\lib\\site-packages (from matplotlib>=3.0.0->mlxtend) (2.8.2)\n",
      "Requirement already satisfied: pytz>=2020.1 in c:\\users\\aakha\\anaconda3\\lib\\site-packages (from pandas>=0.24.2->mlxtend) (2022.7)\n",
      "Requirement already satisfied: threadpoolctl>=2.0.0 in c:\\users\\aakha\\anaconda3\\lib\\site-packages (from scikit-learn>=1.0.2->mlxtend) (2.2.0)\n",
      "Requirement already satisfied: six>=1.5 in c:\\users\\aakha\\anaconda3\\lib\\site-packages (from python-dateutil>=2.7->matplotlib>=3.0.0->mlxtend) (1.16.0)\n",
      "Installing collected packages: mlxtend\n",
      "Successfully installed mlxtend-0.23.0\n",
      "Note: you may need to restart the kernel to use updated packages.\n"
     ]
    }
   ],
   "source": [
    "pip install mlxtend"
   ]
  },
  {
   "cell_type": "code",
   "execution_count": 3,
   "id": "03d3de7b",
   "metadata": {
    "id": "03d3de7b",
    "outputId": "d1245de3-0c54-4b48-ed2c-0dfb98ec6d97"
   },
   "outputs": [
    {
     "name": "stdout",
     "output_type": "stream",
     "text": [
      "The association rules are:\n",
      "  antecedents consequents  antecedent support  consequent support  support  \\\n",
      "0        (i3)        (i2)                0.75                0.75      0.5   \n",
      "1        (i2)        (i3)                0.75                0.75      0.5   \n",
      "2        (i3)        (i1)                0.75                0.50      0.5   \n",
      "3        (i1)        (i3)                0.50                0.75      0.5   \n",
      "4        (i4)        (i2)                0.50                0.75      0.5   \n",
      "5        (i2)        (i4)                0.75                0.50      0.5   \n",
      "\n",
      "   confidence      lift  leverage  conviction  zhangs_metric  \n",
      "0    0.666667  0.888889   -0.0625        0.75      -0.333333  \n",
      "1    0.666667  0.888889   -0.0625        0.75      -0.333333  \n",
      "2    0.666667  1.333333    0.1250        1.50       1.000000  \n",
      "3    1.000000  1.333333    0.1250         inf       0.500000  \n",
      "4    1.000000  1.333333    0.1250         inf       0.500000  \n",
      "5    0.666667  1.333333    0.1250        1.50       1.000000  \n"
     ]
    }
   ],
   "source": [
    "from mlxtend.preprocessing import TransactionEncoder\n",
    "from mlxtend.frequent_patterns import fpgrowth,association_rules\n",
    "import pandas as pd\n",
    "transactions=[['i1','i2','i3'],['i1','i3'],['i2','i3','i4'],['i2','i4']]\n",
    "transaction_encoder = TransactionEncoder()\n",
    "transaction_array = transaction_encoder.fit(transactions).transform(transactions)\n",
    "transaction_dataframe = pd.DataFrame(transaction_array, columns=transaction_encoder.columns_,index=[\"T1\",\"T2\",\"T3\",\"T4\"])\n",
    "freuent_itemsets=fpgrowth(transaction_dataframe,min_support=0.5, use_colnames=True)\n",
    "association_rules_df=association_rules(freuent_itemsets, metric=\"confidence\", min_threshold=0.5)\n",
    "print(\"The association rules are:\")\n",
    "print(association_rules_df)"
   ]
  },
  {
   "cell_type": "code",
   "execution_count": 4,
   "id": "3b25eb64",
   "metadata": {
    "id": "3b25eb64",
    "outputId": "241c4169-fe1d-4e5f-fa93-8cd6f69be7da"
   },
   "outputs": [
    {
     "name": "stdout",
     "output_type": "stream",
     "text": [
      "       i1     i2     i3     i4\n",
      "T1   True   True   True  False\n",
      "T2   True  False   True  False\n",
      "T3  False   True   True   True\n",
      "T4  False   True  False   True\n"
     ]
    }
   ],
   "source": [
    "print(transaction_dataframe)"
   ]
  },
  {
   "cell_type": "code",
   "execution_count": null,
   "id": "2dab6ca8",
   "metadata": {
    "id": "2dab6ca8"
   },
   "outputs": [],
   "source": []
  }
 ],
 "metadata": {
  "colab": {
   "provenance": []
  },
  "kernelspec": {
   "display_name": "Python 3 (ipykernel)",
   "language": "python",
   "name": "python3"
  },
  "language_info": {
   "codemirror_mode": {
    "name": "ipython",
    "version": 3
   },
   "file_extension": ".py",
   "mimetype": "text/x-python",
   "name": "python",
   "nbconvert_exporter": "python",
   "pygments_lexer": "ipython3",
   "version": "3.10.9"
  }
 },
 "nbformat": 4,
 "nbformat_minor": 5
}
