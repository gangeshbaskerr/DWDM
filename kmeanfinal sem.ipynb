{
 "cells": [
  {
   "cell_type": "code",
   "execution_count": 62,
   "id": "52659dca",
   "metadata": {
    "id": "52659dca"
   },
   "outputs": [],
   "source": [
    "import random as rd\n",
    "import pandas as pd\n",
    "import numpy as np\n",
    "import math"
   ]
  },
  {
   "cell_type": "code",
   "execution_count": 63,
   "id": "1416f30b",
   "metadata": {
    "id": "1416f30b"
   },
   "outputs": [],
   "source": [
    "a=[1,3,5,7,10,21,51,3]\n",
    "b=[2,4,2,8,21,42,25,20]"
   ]
  },
  {
   "cell_type": "code",
   "execution_count": 64,
   "id": "badd06e3",
   "metadata": {
    "id": "badd06e3"
   },
   "outputs": [],
   "source": [
    "data=pd.DataFrame({\"a\":a,\"b\":b})"
   ]
  },
  {
   "cell_type": "code",
   "execution_count": 65,
   "id": "314832ca",
   "metadata": {
    "colab": {
     "base_uri": "https://localhost:8080/",
     "height": 300
    },
    "executionInfo": {
     "elapsed": 7,
     "status": "ok",
     "timestamp": 1697193383120,
     "user": {
      "displayName": "Guhan S",
      "userId": "03674448172297078332"
     },
     "user_tz": -330
    },
    "id": "314832ca",
    "outputId": "40743065-d12d-4fb0-bd2d-9eda6f96b807"
   },
   "outputs": [
    {
     "data": {
      "text/html": [
       "<div>\n",
       "<style scoped>\n",
       "    .dataframe tbody tr th:only-of-type {\n",
       "        vertical-align: middle;\n",
       "    }\n",
       "\n",
       "    .dataframe tbody tr th {\n",
       "        vertical-align: top;\n",
       "    }\n",
       "\n",
       "    .dataframe thead th {\n",
       "        text-align: right;\n",
       "    }\n",
       "</style>\n",
       "<table border=\"1\" class=\"dataframe\">\n",
       "  <thead>\n",
       "    <tr style=\"text-align: right;\">\n",
       "      <th></th>\n",
       "      <th>a</th>\n",
       "      <th>b</th>\n",
       "    </tr>\n",
       "  </thead>\n",
       "  <tbody>\n",
       "    <tr>\n",
       "      <th>0</th>\n",
       "      <td>1</td>\n",
       "      <td>2</td>\n",
       "    </tr>\n",
       "    <tr>\n",
       "      <th>1</th>\n",
       "      <td>3</td>\n",
       "      <td>4</td>\n",
       "    </tr>\n",
       "    <tr>\n",
       "      <th>2</th>\n",
       "      <td>5</td>\n",
       "      <td>2</td>\n",
       "    </tr>\n",
       "    <tr>\n",
       "      <th>3</th>\n",
       "      <td>7</td>\n",
       "      <td>8</td>\n",
       "    </tr>\n",
       "    <tr>\n",
       "      <th>4</th>\n",
       "      <td>10</td>\n",
       "      <td>21</td>\n",
       "    </tr>\n",
       "    <tr>\n",
       "      <th>5</th>\n",
       "      <td>21</td>\n",
       "      <td>42</td>\n",
       "    </tr>\n",
       "    <tr>\n",
       "      <th>6</th>\n",
       "      <td>51</td>\n",
       "      <td>25</td>\n",
       "    </tr>\n",
       "    <tr>\n",
       "      <th>7</th>\n",
       "      <td>3</td>\n",
       "      <td>20</td>\n",
       "    </tr>\n",
       "  </tbody>\n",
       "</table>\n",
       "</div>"
      ],
      "text/plain": [
       "    a   b\n",
       "0   1   2\n",
       "1   3   4\n",
       "2   5   2\n",
       "3   7   8\n",
       "4  10  21\n",
       "5  21  42\n",
       "6  51  25\n",
       "7   3  20"
      ]
     },
     "execution_count": 65,
     "metadata": {},
     "output_type": "execute_result"
    }
   ],
   "source": [
    "data"
   ]
  },
  {
   "cell_type": "code",
   "execution_count": 66,
   "id": "ef31445b",
   "metadata": {
    "id": "ef31445b"
   },
   "outputs": [],
   "source": [
    "c1=(5,2)\n",
    "c2=(21,42)"
   ]
  },
  {
   "cell_type": "code",
   "execution_count": 67,
   "id": "3820e012",
   "metadata": {
    "id": "3820e012"
   },
   "outputs": [],
   "source": [
    "def findgroups(a,b,c1,c2):\n",
    "    list1=[]\n",
    "    list2=[]\n",
    "    for i in range(len(a)):\n",
    "        r1=math.sqrt(((c1[0]-a[i])**2)+((c1[1]-b[i])**2))\n",
    "        r2=math.sqrt(((c2[0]-a[i])**2)+((c2[1]-b[i])**2))\n",
    "        list1.append(r1)\n",
    "        list2.append(r2)\n",
    "    return list1,list2"
   ]
  },
  {
   "cell_type": "code",
   "execution_count": 68,
   "id": "2d488978",
   "metadata": {
    "id": "2d488978"
   },
   "outputs": [],
   "source": [
    "def newcentroid(l1,l2,a,b):\n",
    "    ll1=[]\n",
    "    ll2=[]\n",
    "    c1x=0\n",
    "    c1y=0\n",
    "    c2x=0\n",
    "    c2y=0\n",
    "    for i in range(len(l1)):\n",
    "        if(l1[i]<l2[i]):\n",
    "            ll1.append(i)\n",
    "        else:\n",
    "            ll2.append(i)\n",
    "    for j in range(len(ll1)):\n",
    "        c1x=c1x+a[ll1[j]]\n",
    "        c1y=c1y+b[ll1[j]]\n",
    "    c1x=c1x/len(ll1)\n",
    "    c1y=c1y/len(ll1)\n",
    "    for j in range(len(ll2)):\n",
    "        c2x=c2x+a[ll2[j]]\n",
    "        c2y=c2y+b[ll2[j]]\n",
    "    c2x=c2x/len(ll2)\n",
    "    c2y=c2y/len(ll2)\n",
    "\n",
    "    c1=(c1x,c1y)\n",
    "    c2=(c2x,c2y)\n",
    "    return c1,c2,ll1,ll2\n",
    "\n"
   ]
  },
  {
   "cell_type": "code",
   "execution_count": 69,
   "id": "8ecf1006",
   "metadata": {
    "id": "8ecf1006"
   },
   "outputs": [],
   "source": [
    "def kmean(a,b,nn1,nn2):\n",
    "    cc1,cc2=nn1,nn2\n",
    "    pc1=()\n",
    "    pc2=()\n",
    "    while(True):\n",
    "        l1,l2=findgroups(a,b,cc1,cc2)\n",
    "        z1,z2,ll1,ll2=newcentroid(l1,l2,a,b)\n",
    "        if(z1==pc1 and z2==pc2):\n",
    "            return z1,z2,ll1,ll2\n",
    "        pc1=z1\n",
    "        pc2=z2\n",
    "        cc1=z1\n",
    "        cc2=z2\n"
   ]
  },
  {
   "cell_type": "code",
   "execution_count": 70,
   "id": "7ad92fe7",
   "metadata": {
    "id": "7ad92fe7"
   },
   "outputs": [],
   "source": [
    "n1,n2,l1,l2=kmean(data[\"a\"],data[\"b\"],c1,c2)"
   ]
  },
  {
   "cell_type": "code",
   "execution_count": 71,
   "id": "1abe9516",
   "metadata": {
    "colab": {
     "base_uri": "https://localhost:8080/"
    },
    "executionInfo": {
     "elapsed": 383,
     "status": "ok",
     "timestamp": 1697193502614,
     "user": {
      "displayName": "Guhan S",
      "userId": "03674448172297078332"
     },
     "user_tz": -330
    },
    "id": "1abe9516",
    "outputId": "a998948b-430f-420a-fcf9-2cabd38176fd"
   },
   "outputs": [
    {
     "data": {
      "text/plain": [
       "(4.833333333333333, 9.5)"
      ]
     },
     "execution_count": 71,
     "metadata": {},
     "output_type": "execute_result"
    }
   ],
   "source": [
    "n1"
   ]
  },
  {
   "cell_type": "code",
   "execution_count": 72,
   "id": "6d0abd0c",
   "metadata": {
    "colab": {
     "base_uri": "https://localhost:8080/"
    },
    "executionInfo": {
     "elapsed": 824,
     "status": "ok",
     "timestamp": 1697193518109,
     "user": {
      "displayName": "Guhan S",
      "userId": "03674448172297078332"
     },
     "user_tz": -330
    },
    "id": "6d0abd0c",
    "outputId": "e7855e5b-30f5-4841-9382-b6466606c6c9",
    "scrolled": false
   },
   "outputs": [
    {
     "data": {
      "text/plain": [
       "(36.0, 33.5)"
      ]
     },
     "execution_count": 72,
     "metadata": {},
     "output_type": "execute_result"
    }
   ],
   "source": [
    "n2"
   ]
  },
  {
   "cell_type": "code",
   "execution_count": 73,
   "id": "05b0e3da",
   "metadata": {},
   "outputs": [
    {
     "data": {
      "text/html": [
       "<div>\n",
       "<style scoped>\n",
       "    .dataframe tbody tr th:only-of-type {\n",
       "        vertical-align: middle;\n",
       "    }\n",
       "\n",
       "    .dataframe tbody tr th {\n",
       "        vertical-align: top;\n",
       "    }\n",
       "\n",
       "    .dataframe thead th {\n",
       "        text-align: right;\n",
       "    }\n",
       "</style>\n",
       "<table border=\"1\" class=\"dataframe\">\n",
       "  <thead>\n",
       "    <tr style=\"text-align: right;\">\n",
       "      <th></th>\n",
       "      <th>a</th>\n",
       "      <th>b</th>\n",
       "    </tr>\n",
       "  </thead>\n",
       "  <tbody>\n",
       "    <tr>\n",
       "      <th>0</th>\n",
       "      <td>1</td>\n",
       "      <td>2</td>\n",
       "    </tr>\n",
       "    <tr>\n",
       "      <th>1</th>\n",
       "      <td>3</td>\n",
       "      <td>4</td>\n",
       "    </tr>\n",
       "    <tr>\n",
       "      <th>2</th>\n",
       "      <td>5</td>\n",
       "      <td>2</td>\n",
       "    </tr>\n",
       "    <tr>\n",
       "      <th>3</th>\n",
       "      <td>7</td>\n",
       "      <td>8</td>\n",
       "    </tr>\n",
       "    <tr>\n",
       "      <th>4</th>\n",
       "      <td>10</td>\n",
       "      <td>21</td>\n",
       "    </tr>\n",
       "    <tr>\n",
       "      <th>5</th>\n",
       "      <td>21</td>\n",
       "      <td>42</td>\n",
       "    </tr>\n",
       "    <tr>\n",
       "      <th>6</th>\n",
       "      <td>51</td>\n",
       "      <td>25</td>\n",
       "    </tr>\n",
       "    <tr>\n",
       "      <th>7</th>\n",
       "      <td>3</td>\n",
       "      <td>20</td>\n",
       "    </tr>\n",
       "  </tbody>\n",
       "</table>\n",
       "</div>"
      ],
      "text/plain": [
       "    a   b\n",
       "0   1   2\n",
       "1   3   4\n",
       "2   5   2\n",
       "3   7   8\n",
       "4  10  21\n",
       "5  21  42\n",
       "6  51  25\n",
       "7   3  20"
      ]
     },
     "execution_count": 73,
     "metadata": {},
     "output_type": "execute_result"
    }
   ],
   "source": [
    "data"
   ]
  },
  {
   "cell_type": "code",
   "execution_count": 74,
   "id": "14850e81",
   "metadata": {},
   "outputs": [
    {
     "name": "stdout",
     "output_type": "stream",
     "text": [
      "The First cluster is: \n",
      "\n",
      "( 1 , 2 )\n",
      "( 3 , 4 )\n",
      "( 5 , 2 )\n",
      "( 7 , 8 )\n",
      "( 10 , 21 )\n",
      "( 3 , 20 )\n"
     ]
    }
   ],
   "source": [
    "print(\"The First cluster is: \\n\")\n",
    "for i in range(len(l1)):\n",
    "    print(\"(\",a[l1[i]],\",\",b[l1[i]],\")\")"
   ]
  },
  {
   "cell_type": "code",
   "execution_count": 75,
   "id": "9643e539",
   "metadata": {},
   "outputs": [
    {
     "name": "stdout",
     "output_type": "stream",
     "text": [
      "The Second cluster is: \n",
      "\n",
      "( 21 , 42 )\n",
      "( 51 , 25 )\n"
     ]
    }
   ],
   "source": [
    "print(\"The Second cluster is: \\n\")\n",
    "for i in range(len(l2)):\n",
    "    print(\"(\",a[l2[i]],\",\",b[l2[i]],\")\")"
   ]
  }
 ],
 "metadata": {
  "colab": {
   "provenance": []
  },
  "kernelspec": {
   "display_name": "Python 3 (ipykernel)",
   "language": "python",
   "name": "python3"
  },
  "language_info": {
   "codemirror_mode": {
    "name": "ipython",
    "version": 3
   },
   "file_extension": ".py",
   "mimetype": "text/x-python",
   "name": "python",
   "nbconvert_exporter": "python",
   "pygments_lexer": "ipython3",
   "version": "3.10.9"
  }
 },
 "nbformat": 4,
 "nbformat_minor": 5
}
