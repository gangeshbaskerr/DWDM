{
 "cells": [
  {
   "cell_type": "code",
   "execution_count": 3,
   "id": "71926165",
   "metadata": {},
   "outputs": [
    {
     "name": "stdout",
     "output_type": "stream",
     "text": [
      "[[0, 1, 2, 3], [8, 9, 4, 5, 6, 7]]\n"
     ]
    }
   ],
   "source": [
    "import numpy as np\n",
    "import pandas as pd\n",
    "import matplotlib.pyplot as plt\n",
    "from scipy.cluster.hierarchy import dendrogram, linkage\n",
    "\n",
    "def distance(x1, x2):\n",
    "    return np.sqrt(np.sum((x1 - x2)**2))\n",
    "\n",
    "def agnes(X, k):\n",
    "    n = X.shape[0]\n",
    "    clusters = [[i] for i in range(n)]\n",
    "    distances = np.zeros((n, n))\n",
    "    for i in range(n):\n",
    "        for j in range(i+1, n):\n",
    "            distances[i][j] = distance(X[i], X[j])\n",
    "            distances[j][i] = distances[i][j]\n",
    "    num_clusters = n\n",
    "    while num_clusters > k:\n",
    "        min_distance = float('inf')\n",
    "        for i in range(num_clusters):\n",
    "            for j in range(i+1, num_clusters):\n",
    "                if distances[clusters[i][0]][clusters[j][0]] < min_distance:\n",
    "                    min_distance = distances[clusters[i][0]][clusters[j][0]]\n",
    "                    merge_index = (i, j)\n",
    "        new_cluster = clusters[merge_index[0]] + clusters[merge_index[1]]\n",
    "        clusters.pop(merge_index[1])\n",
    "        clusters.pop(merge_index[0])\n",
    "        clusters.append(new_cluster)\n",
    "        num_clusters -= 1\n",
    "    return clusters\n",
    "\n",
    "X = np.array([[1, 2], [3, 4], [5, 6], [7, 8], [9, 10],[11,12],[13,14],[15,16],[17,18],[19,20]])\n",
    "k = 2\n",
    "clusters = agnes(X, k)\n",
    "print(clusters)"
   ]
  },
  {
   "cell_type": "code",
   "execution_count": 4,
   "id": "b7dd6b64",
   "metadata": {},
   "outputs": [
    {
     "data": {
      "image/png": "[encoded data removed]",
      "text/plain": [
       "<Figure size 640x480 with 1 Axes>"
      ]
     },
     "metadata": {},
     "output_type": "display_data"
    }
   ],
   "source": [
    "linkage_data = linkage(X, method='ward', metric='euclidean')\n",
    "dendrogram(linkage_data)\n",
    "plt.show()"
   ]
  },
  {
   "cell_type": "code",
   "execution_count": null,
   "id": "e471de0f",
   "metadata": {},
   "outputs": [],
   "source": []
  }
 ],
 "metadata": {
  "kernelspec": {
   "display_name": "Python 3 (ipykernel)",
   "language": "python",
   "name": "python3"
  },
  "language_info": {
   "codemirror_mode": {
    "name": "ipython",
    "version": 3
   },
   "file_extension": ".py",
   "mimetype": "text/x-python",
   "name": "python",
   "nbconvert_exporter": "python",
   "pygments_lexer": "ipython3",
   "version": "3.10.9"
  }
 },
 "nbformat": 4,
 "nbformat_minor": 5
}
