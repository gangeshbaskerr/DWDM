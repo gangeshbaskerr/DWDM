{
 "cells": [
  {
   "cell_type": "code",
   "execution_count": null,
   "id": "58077495",
   "metadata": {
    "id": "58077495"
   },
   "outputs": [],
   "source": [
    "import pyfpgrowth"
   ]
  },
  {
   "cell_type": "code",
   "execution_count": null,
   "id": "1978d3b0",
   "metadata": {
    "id": "1978d3b0"
   },
   "outputs": [],
   "source": [
    "tran=[['i1','i2','i3'],['i1','i3'],['i2','i3','i4'],['i2','i4'],['i3','i1','i2'],['i3','i4']]"
   ]
  },
  {
   "cell_type": "code",
   "execution_count": null,
   "id": "7ec83e7e",
   "metadata": {
    "id": "7ec83e7e"
   },
   "outputs": [],
   "source": [
    "freq_pat=pyfpgrowth.find_frequent_patterns(transactions=tran,support_threshold=0.5)"
   ]
  },
  {
   "cell_type": "code",
   "execution_count": null,
   "id": "50e1c832",
   "metadata": {
    "id": "50e1c832",
    "outputId": "07687759-7512-4def-f6d8-912555025be0"
   },
   "outputs": [
    {
     "name": "stdout",
     "output_type": "stream",
     "text": [
      "{('i1',): 3, ('i1', 'i2'): 2, ('i1', 'i3'): 3, ('i1', 'i2', 'i3'): 2, ('i2', 'i4'): 2, ('i3', 'i4'): 2, ('i2', 'i3', 'i4'): 1, ('i2',): 4, ('i2', 'i3'): 3, ('i3',): 5}\n"
     ]
    }
   ],
   "source": [
    "print(freq_pat)"
   ]
  },
  {
   "cell_type": "code",
   "execution_count": null,
   "id": "46d64b66",
   "metadata": {
    "id": "46d64b66"
   },
   "outputs": [],
   "source": [
    "rules=pyfpgrowth.generate_association_rules(patterns=freq_pat,confidence_threshold=0.5)"
   ]
  },
  {
   "cell_type": "code",
   "execution_count": null,
   "id": "920cfd87",
   "metadata": {
    "id": "920cfd87",
    "outputId": "4a7d4c85-0f28-410a-af13-dd62ffb2445b"
   },
   "outputs": [
    {
     "data": {
      "text/plain": [
       "{('i1',): (('i2', 'i3'), 0.6666666666666666),\n",
       " ('i2',): (('i3',), 0.75),\n",
       " ('i3',): (('i2',), 0.6),\n",
       " ('i1', 'i2'): (('i3',), 1.0),\n",
       " ('i1', 'i3'): (('i2',), 0.6666666666666666),\n",
       " ('i2', 'i3'): (('i1',), 0.6666666666666666),\n",
       " ('i2', 'i4'): (('i3',), 0.5),\n",
       " ('i3', 'i4'): (('i2',), 0.5)}"
      ]
     },
     "execution_count": 15,
     "metadata": {},
     "output_type": "execute_result"
    }
   ],
   "source": [
    "rules"
   ]
  }
 ],
 "metadata": {
  "colab": {
   "provenance": []
  },
  "kernelspec": {
   "display_name": "Python 3 (ipykernel)",
   "language": "python",
   "name": "python3"
  },
  "language_info": {
   "codemirror_mode": {
    "name": "ipython",
    "version": 3
   },
   "file_extension": ".py",
   "mimetype": "text/x-python",
   "name": "python",
   "nbconvert_exporter": "python",
   "pygments_lexer": "ipython3",
   "version": "3.10.9"
  }
 },
 "nbformat": 4,
 "nbformat_minor": 5
}
