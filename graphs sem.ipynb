{
 "cells": [
  {
   "cell_type": "code",
   "execution_count": 10,
   "id": "b8bb927b",
   "metadata": {},
   "outputs": [],
   "source": [
    "import pandas as pd\n",
    "import numpy as np\n",
    "import random as rd\n",
    "import os\n",
    "import matplotlib.pyplot as plt\n",
    "from scipy import stats\n",
    "import seaborn as sns"
   ]
  },
  {
   "cell_type": "markdown",
   "id": "9b0081b8",
   "metadata": {},
   "source": [
    "## CSV FILE"
   ]
  },
  {
   "cell_type": "code",
   "execution_count": 11,
   "id": "d82aa5d4",
   "metadata": {},
   "outputs": [
    {
     "data": {
      "text/html": [
       "<div>\n",
       "<style scoped>\n",
       "    .dataframe tbody tr th:only-of-type {\n",
       "        vertical-align: middle;\n",
       "    }\n",
       "\n",
       "    .dataframe tbody tr th {\n",
       "        vertical-align: top;\n",
       "    }\n",
       "\n",
       "    .dataframe thead th {\n",
       "        text-align: right;\n",
       "    }\n",
       "</style>\n",
       "<table border=\"1\" class=\"dataframe\">\n",
       "  <thead>\n",
       "    <tr style=\"text-align: right;\">\n",
       "      <th></th>\n",
       "      <th>Gender</th>\n",
       "      <th>Height</th>\n",
       "      <th>Weight</th>\n",
       "      <th>Index</th>\n",
       "    </tr>\n",
       "  </thead>\n",
       "  <tbody>\n",
       "    <tr>\n",
       "      <th>0</th>\n",
       "      <td>Male</td>\n",
       "      <td>174</td>\n",
       "      <td>96</td>\n",
       "      <td>4</td>\n",
       "    </tr>\n",
       "    <tr>\n",
       "      <th>1</th>\n",
       "      <td>Male</td>\n",
       "      <td>189</td>\n",
       "      <td>87</td>\n",
       "      <td>2</td>\n",
       "    </tr>\n",
       "    <tr>\n",
       "      <th>2</th>\n",
       "      <td>Female</td>\n",
       "      <td>185</td>\n",
       "      <td>110</td>\n",
       "      <td>4</td>\n",
       "    </tr>\n",
       "    <tr>\n",
       "      <th>3</th>\n",
       "      <td>Female</td>\n",
       "      <td>195</td>\n",
       "      <td>104</td>\n",
       "      <td>3</td>\n",
       "    </tr>\n",
       "    <tr>\n",
       "      <th>4</th>\n",
       "      <td>Male</td>\n",
       "      <td>149</td>\n",
       "      <td>61</td>\n",
       "      <td>3</td>\n",
       "    </tr>\n",
       "  </tbody>\n",
       "</table>\n",
       "</div>"
      ],
      "text/plain": [
       "   Gender  Height  Weight  Index\n",
       "0    Male     174      96      4\n",
       "1    Male     189      87      2\n",
       "2  Female     185     110      4\n",
       "3  Female     195     104      3\n",
       "4    Male     149      61      3"
      ]
     },
     "metadata": {},
     "output_type": "display_data"
    }
   ],
   "source": [
    "df = pd.read_csv(r'E:\\bmi.csv')\n",
    " \n",
    "# printing the top 10 rows\n",
    "display(df.head(5))"
   ]
  },
  {
   "cell_type": "markdown",
   "id": "c1fb88fc",
   "metadata": {},
   "source": [
    "# JSON FILE"
   ]
  },
  {
   "cell_type": "code",
   "execution_count": 12,
   "id": "49216d50",
   "metadata": {},
   "outputs": [
    {
     "data": {
      "text/html": [
       "<div>\n",
       "<style scoped>\n",
       "    .dataframe tbody tr th:only-of-type {\n",
       "        vertical-align: middle;\n",
       "    }\n",
       "\n",
       "    .dataframe tbody tr th {\n",
       "        vertical-align: top;\n",
       "    }\n",
       "\n",
       "    .dataframe thead th {\n",
       "        text-align: right;\n",
       "    }\n",
       "</style>\n",
       "<table border=\"1\" class=\"dataframe\">\n",
       "  <thead>\n",
       "    <tr style=\"text-align: right;\">\n",
       "      <th></th>\n",
       "      <th>Country</th>\n",
       "      <th>Year</th>\n",
       "      <th>Area (square kilometres)</th>\n",
       "      <th>Total population</th>\n",
       "      <th>Population density, pers. per sq. km</th>\n",
       "      <th>Population aged 0-14, male</th>\n",
       "      <th>Population aged 0-14, female</th>\n",
       "      <th>Population aged 15-64, male</th>\n",
       "      <th>Population aged 15-64, female</th>\n",
       "      <th>Population aged 64+, male</th>\n",
       "      <th>...</th>\n",
       "      <th>Employment in industry and energy (ISIC Rev. 4 B-E), share of total employment</th>\n",
       "      <th>Employment in construction (ISIC Rev. 4 F), share of total employment</th>\n",
       "      <th>Employment in trade, hotels, restaurants, transport and communications (ISIC Rev. 4 G-J), share of total employment</th>\n",
       "      <th>Employment in finance, real estate and business services (ISIC Rev. 4 K-N), share of total employment</th>\n",
       "      <th>Employment in public administration, education and health (ISIC Rev. 4 O-Q), share of total employment</th>\n",
       "      <th>Employment in other service activities (ISIC Rev. 4 R-U), share of total employment</th>\n",
       "      <th>Persons killed in road accidents</th>\n",
       "      <th>Persons injured in road accidents</th>\n",
       "      <th>Total length of motorways (km)</th>\n",
       "      <th>Total length of railway lines (km)</th>\n",
       "    </tr>\n",
       "  </thead>\n",
       "  <tbody>\n",
       "    <tr>\n",
       "      <th>0</th>\n",
       "      <td>Albania</td>\n",
       "      <td>2000</td>\n",
       "      <td>28748.0</td>\n",
       "      <td>3401198.0</td>\n",
       "      <td>118.31077</td>\n",
       "      <td>564851.0</td>\n",
       "      <td>529820.0</td>\n",
       "      <td>1029446.0</td>\n",
       "      <td>1086946.0</td>\n",
       "      <td>82588.0</td>\n",
       "      <td>...</td>\n",
       "      <td>NaN</td>\n",
       "      <td>NaN</td>\n",
       "      <td>NaN</td>\n",
       "      <td>NaN</td>\n",
       "      <td>NaN</td>\n",
       "      <td>NaN</td>\n",
       "      <td>280.0</td>\n",
       "      <td>336.0</td>\n",
       "      <td>NaN</td>\n",
       "      <td>400.0</td>\n",
       "    </tr>\n",
       "    <tr>\n",
       "      <th>1</th>\n",
       "      <td>Albania</td>\n",
       "      <td>2001</td>\n",
       "      <td>28748.0</td>\n",
       "      <td>3073734.0</td>\n",
       "      <td>106.91992</td>\n",
       "      <td>460732.0</td>\n",
       "      <td>436652.0</td>\n",
       "      <td>963612.0</td>\n",
       "      <td>980800.0</td>\n",
       "      <td>108254.0</td>\n",
       "      <td>...</td>\n",
       "      <td>NaN</td>\n",
       "      <td>NaN</td>\n",
       "      <td>NaN</td>\n",
       "      <td>NaN</td>\n",
       "      <td>NaN</td>\n",
       "      <td>NaN</td>\n",
       "      <td>297.0</td>\n",
       "      <td>250.0</td>\n",
       "      <td>NaN</td>\n",
       "      <td>409.0</td>\n",
       "    </tr>\n",
       "    <tr>\n",
       "      <th>2</th>\n",
       "      <td>Albania</td>\n",
       "      <td>2002</td>\n",
       "      <td>28748.0</td>\n",
       "      <td>3093465.0</td>\n",
       "      <td>107.60627</td>\n",
       "      <td>452373.0</td>\n",
       "      <td>427711.0</td>\n",
       "      <td>977294.0</td>\n",
       "      <td>995773.0</td>\n",
       "      <td>112546.0</td>\n",
       "      <td>...</td>\n",
       "      <td>NaN</td>\n",
       "      <td>NaN</td>\n",
       "      <td>NaN</td>\n",
       "      <td>NaN</td>\n",
       "      <td>NaN</td>\n",
       "      <td>NaN</td>\n",
       "      <td>250.0</td>\n",
       "      <td>228.0</td>\n",
       "      <td>NaN</td>\n",
       "      <td>428.0</td>\n",
       "    </tr>\n",
       "    <tr>\n",
       "      <th>3</th>\n",
       "      <td>Albania</td>\n",
       "      <td>2003</td>\n",
       "      <td>28748.0</td>\n",
       "      <td>3111162.0</td>\n",
       "      <td>108.22186</td>\n",
       "      <td>442939.0</td>\n",
       "      <td>417968.0</td>\n",
       "      <td>991075.0</td>\n",
       "      <td>1010693.0</td>\n",
       "      <td>116714.0</td>\n",
       "      <td>...</td>\n",
       "      <td>NaN</td>\n",
       "      <td>NaN</td>\n",
       "      <td>NaN</td>\n",
       "      <td>NaN</td>\n",
       "      <td>NaN</td>\n",
       "      <td>NaN</td>\n",
       "      <td>264.0</td>\n",
       "      <td>248.0</td>\n",
       "      <td>NaN</td>\n",
       "      <td>428.0</td>\n",
       "    </tr>\n",
       "    <tr>\n",
       "      <th>4</th>\n",
       "      <td>Albania</td>\n",
       "      <td>2004</td>\n",
       "      <td>28748.0</td>\n",
       "      <td>3127264.0</td>\n",
       "      <td>108.78197</td>\n",
       "      <td>433178.0</td>\n",
       "      <td>407988.0</td>\n",
       "      <td>1004398.0</td>\n",
       "      <td>1024845.0</td>\n",
       "      <td>120801.0</td>\n",
       "      <td>...</td>\n",
       "      <td>NaN</td>\n",
       "      <td>NaN</td>\n",
       "      <td>NaN</td>\n",
       "      <td>NaN</td>\n",
       "      <td>NaN</td>\n",
       "      <td>NaN</td>\n",
       "      <td>315.0</td>\n",
       "      <td>820.0</td>\n",
       "      <td>NaN</td>\n",
       "      <td>428.0</td>\n",
       "    </tr>\n",
       "  </tbody>\n",
       "</table>\n",
       "<p>5 rows × 79 columns</p>\n",
       "</div>"
      ],
      "text/plain": [
       "   Country  Year  Area (square kilometres)  Total population  \\\n",
       "0  Albania  2000                   28748.0         3401198.0   \n",
       "1  Albania  2001                   28748.0         3073734.0   \n",
       "2  Albania  2002                   28748.0         3093465.0   \n",
       "3  Albania  2003                   28748.0         3111162.0   \n",
       "4  Albania  2004                   28748.0         3127264.0   \n",
       "\n",
       "   Population density, pers. per sq. km  Population aged 0-14, male  \\\n",
       "0                             118.31077                    564851.0   \n",
       "1                             106.91992                    460732.0   \n",
       "2                             107.60627                    452373.0   \n",
       "3                             108.22186                    442939.0   \n",
       "4                             108.78197                    433178.0   \n",
       "\n",
       "   Population aged 0-14, female  Population aged 15-64, male  \\\n",
       "0                      529820.0                    1029446.0   \n",
       "1                      436652.0                     963612.0   \n",
       "2                      427711.0                     977294.0   \n",
       "3                      417968.0                     991075.0   \n",
       "4                      407988.0                    1004398.0   \n",
       "\n",
       "   Population aged 15-64, female  Population aged 64+, male  ...  \\\n",
       "0                      1086946.0                    82588.0  ...   \n",
       "1                       980800.0                   108254.0  ...   \n",
       "2                       995773.0                   112546.0  ...   \n",
       "3                      1010693.0                   116714.0  ...   \n",
       "4                      1024845.0                   120801.0  ...   \n",
       "\n",
       "   Employment in industry and energy (ISIC Rev. 4 B-E), share of total employment  \\\n",
       "0                                                NaN                                \n",
       "1                                                NaN                                \n",
       "2                                                NaN                                \n",
       "3                                                NaN                                \n",
       "4                                                NaN                                \n",
       "\n",
       "   Employment in construction (ISIC Rev. 4 F), share of total employment  \\\n",
       "0                                                NaN                       \n",
       "1                                                NaN                       \n",
       "2                                                NaN                       \n",
       "3                                                NaN                       \n",
       "4                                                NaN                       \n",
       "\n",
       "   Employment in trade, hotels, restaurants, transport and communications (ISIC Rev. 4 G-J), share of total employment  \\\n",
       "0                                                NaN                                                                     \n",
       "1                                                NaN                                                                     \n",
       "2                                                NaN                                                                     \n",
       "3                                                NaN                                                                     \n",
       "4                                                NaN                                                                     \n",
       "\n",
       "   Employment in finance, real estate and business services (ISIC Rev. 4 K-N), share of total employment  \\\n",
       "0                                                NaN                                                       \n",
       "1                                                NaN                                                       \n",
       "2                                                NaN                                                       \n",
       "3                                                NaN                                                       \n",
       "4                                                NaN                                                       \n",
       "\n",
       "   Employment in public administration, education and health (ISIC Rev. 4 O-Q), share of total employment  \\\n",
       "0                                                NaN                                                        \n",
       "1                                                NaN                                                        \n",
       "2                                                NaN                                                        \n",
       "3                                                NaN                                                        \n",
       "4                                                NaN                                                        \n",
       "\n",
       "   Employment in other service activities (ISIC Rev. 4 R-U), share of total employment  \\\n",
       "0                                                NaN                                     \n",
       "1                                                NaN                                     \n",
       "2                                                NaN                                     \n",
       "3                                                NaN                                     \n",
       "4                                                NaN                                     \n",
       "\n",
       "   Persons killed in road accidents  Persons injured in road accidents  \\\n",
       "0                             280.0                              336.0   \n",
       "1                             297.0                              250.0   \n",
       "2                             250.0                              228.0   \n",
       "3                             264.0                              248.0   \n",
       "4                             315.0                              820.0   \n",
       "\n",
       "   Total length of motorways (km)  Total length of railway lines (km)  \n",
       "0                             NaN                               400.0  \n",
       "1                             NaN                               409.0  \n",
       "2                             NaN                               428.0  \n",
       "3                             NaN                               428.0  \n",
       "4                             NaN                               428.0  \n",
       "\n",
       "[5 rows x 79 columns]"
      ]
     },
     "metadata": {},
     "output_type": "display_data"
    }
   ],
   "source": [
    "data=pd.read_json(r'E:\\unece.json')\n",
    "df=pd.DataFrame(data)\n",
    "display(df.head(5))"
   ]
  },
  {
   "cell_type": "markdown",
   "id": "125e3860",
   "metadata": {},
   "source": [
    "# EXCEL FILE"
   ]
  },
  {
   "cell_type": "code",
   "execution_count": 13,
   "id": "d01af087",
   "metadata": {},
   "outputs": [
    {
     "data": {
      "text/html": [
       "<div>\n",
       "<style scoped>\n",
       "    .dataframe tbody tr th:only-of-type {\n",
       "        vertical-align: middle;\n",
       "    }\n",
       "\n",
       "    .dataframe tbody tr th {\n",
       "        vertical-align: top;\n",
       "    }\n",
       "\n",
       "    .dataframe thead th {\n",
       "        text-align: right;\n",
       "    }\n",
       "</style>\n",
       "<table border=\"1\" class=\"dataframe\">\n",
       "  <thead>\n",
       "    <tr style=\"text-align: right;\">\n",
       "      <th></th>\n",
       "      <th>Segment</th>\n",
       "      <th>Country</th>\n",
       "      <th>Product</th>\n",
       "      <th>Discount Band</th>\n",
       "      <th>Units Sold</th>\n",
       "      <th>Manufacturing Price</th>\n",
       "      <th>Sale Price</th>\n",
       "      <th>Gross Sales</th>\n",
       "      <th>Discounts</th>\n",
       "      <th>Sales</th>\n",
       "      <th>COGS</th>\n",
       "      <th>Profit</th>\n",
       "      <th>Date</th>\n",
       "      <th>Month Number</th>\n",
       "      <th>Month Name</th>\n",
       "      <th>Year</th>\n",
       "    </tr>\n",
       "  </thead>\n",
       "  <tbody>\n",
       "    <tr>\n",
       "      <th>0</th>\n",
       "      <td>Government</td>\n",
       "      <td>Canada</td>\n",
       "      <td>Carretera</td>\n",
       "      <td>None</td>\n",
       "      <td>1618.5</td>\n",
       "      <td>3</td>\n",
       "      <td>20</td>\n",
       "      <td>32370.0</td>\n",
       "      <td>0.0</td>\n",
       "      <td>32370.0</td>\n",
       "      <td>16185.0</td>\n",
       "      <td>16185.0</td>\n",
       "      <td>2014-01-01</td>\n",
       "      <td>1</td>\n",
       "      <td>January</td>\n",
       "      <td>2014</td>\n",
       "    </tr>\n",
       "    <tr>\n",
       "      <th>1</th>\n",
       "      <td>Government</td>\n",
       "      <td>Germany</td>\n",
       "      <td>Carretera</td>\n",
       "      <td>None</td>\n",
       "      <td>1321.0</td>\n",
       "      <td>3</td>\n",
       "      <td>20</td>\n",
       "      <td>26420.0</td>\n",
       "      <td>0.0</td>\n",
       "      <td>26420.0</td>\n",
       "      <td>13210.0</td>\n",
       "      <td>13210.0</td>\n",
       "      <td>2014-01-01</td>\n",
       "      <td>1</td>\n",
       "      <td>January</td>\n",
       "      <td>2014</td>\n",
       "    </tr>\n",
       "    <tr>\n",
       "      <th>2</th>\n",
       "      <td>Midmarket</td>\n",
       "      <td>France</td>\n",
       "      <td>Carretera</td>\n",
       "      <td>None</td>\n",
       "      <td>2178.0</td>\n",
       "      <td>3</td>\n",
       "      <td>15</td>\n",
       "      <td>32670.0</td>\n",
       "      <td>0.0</td>\n",
       "      <td>32670.0</td>\n",
       "      <td>21780.0</td>\n",
       "      <td>10890.0</td>\n",
       "      <td>2014-06-01</td>\n",
       "      <td>6</td>\n",
       "      <td>June</td>\n",
       "      <td>2014</td>\n",
       "    </tr>\n",
       "    <tr>\n",
       "      <th>3</th>\n",
       "      <td>Midmarket</td>\n",
       "      <td>Germany</td>\n",
       "      <td>Carretera</td>\n",
       "      <td>None</td>\n",
       "      <td>888.0</td>\n",
       "      <td>3</td>\n",
       "      <td>15</td>\n",
       "      <td>13320.0</td>\n",
       "      <td>0.0</td>\n",
       "      <td>13320.0</td>\n",
       "      <td>8880.0</td>\n",
       "      <td>4440.0</td>\n",
       "      <td>2014-06-01</td>\n",
       "      <td>6</td>\n",
       "      <td>June</td>\n",
       "      <td>2014</td>\n",
       "    </tr>\n",
       "    <tr>\n",
       "      <th>4</th>\n",
       "      <td>Midmarket</td>\n",
       "      <td>Mexico</td>\n",
       "      <td>Carretera</td>\n",
       "      <td>None</td>\n",
       "      <td>2470.0</td>\n",
       "      <td>3</td>\n",
       "      <td>15</td>\n",
       "      <td>37050.0</td>\n",
       "      <td>0.0</td>\n",
       "      <td>37050.0</td>\n",
       "      <td>24700.0</td>\n",
       "      <td>12350.0</td>\n",
       "      <td>2014-06-01</td>\n",
       "      <td>6</td>\n",
       "      <td>June</td>\n",
       "      <td>2014</td>\n",
       "    </tr>\n",
       "  </tbody>\n",
       "</table>\n",
       "</div>"
      ],
      "text/plain": [
       "      Segment  Country    Product Discount Band  Units Sold  \\\n",
       "0  Government   Canada  Carretera          None      1618.5   \n",
       "1  Government  Germany  Carretera          None      1321.0   \n",
       "2   Midmarket   France  Carretera          None      2178.0   \n",
       "3   Midmarket  Germany  Carretera          None       888.0   \n",
       "4   Midmarket   Mexico  Carretera          None      2470.0   \n",
       "\n",
       "   Manufacturing Price  Sale Price  Gross Sales  Discounts    Sales     COGS  \\\n",
       "0                    3          20      32370.0        0.0  32370.0  16185.0   \n",
       "1                    3          20      26420.0        0.0  26420.0  13210.0   \n",
       "2                    3          15      32670.0        0.0  32670.0  21780.0   \n",
       "3                    3          15      13320.0        0.0  13320.0   8880.0   \n",
       "4                    3          15      37050.0        0.0  37050.0  24700.0   \n",
       "\n",
       "    Profit       Date  Month Number Month Name  Year  \n",
       "0  16185.0 2014-01-01             1    January  2014  \n",
       "1  13210.0 2014-01-01             1    January  2014  \n",
       "2  10890.0 2014-06-01             6       June  2014  \n",
       "3   4440.0 2014-06-01             6       June  2014  \n",
       "4  12350.0 2014-06-01             6       June  2014  "
      ]
     },
     "metadata": {},
     "output_type": "display_data"
    }
   ],
   "source": [
    "data=pd.read_excel(r'E:\\Financial Sample.xlsx')\n",
    "df=pd.DataFrame(data)\n",
    "display(df.head(5))"
   ]
  },
  {
   "cell_type": "markdown",
   "id": "89c4643a",
   "metadata": {},
   "source": [
    "# TEXT FILE"
   ]
  },
  {
   "cell_type": "code",
   "execution_count": 14,
   "id": "f471ec6c",
   "metadata": {},
   "outputs": [
    {
     "data": {
      "text/html": [
       "<div>\n",
       "<style scoped>\n",
       "    .dataframe tbody tr th:only-of-type {\n",
       "        vertical-align: middle;\n",
       "    }\n",
       "\n",
       "    .dataframe tbody tr th {\n",
       "        vertical-align: top;\n",
       "    }\n",
       "\n",
       "    .dataframe thead th {\n",
       "        text-align: right;\n",
       "    }\n",
       "</style>\n",
       "<table border=\"1\" class=\"dataframe\">\n",
       "  <thead>\n",
       "    <tr style=\"text-align: right;\">\n",
       "      <th></th>\n",
       "      <th>----------------------</th>\n",
       "      <th>Unnamed: 1</th>\n",
       "      <th>Unnamed: 2</th>\n",
       "      <th>Unnamed: 3</th>\n",
       "      <th>Unnamed: 4</th>\n",
       "      <th>Unnamed: 5</th>\n",
       "      <th>Unnamed: 6</th>\n",
       "      <th>Unnamed: 7</th>\n",
       "      <th>Unnamed: 8</th>\n",
       "      <th>Unnamed: 9</th>\n",
       "      <th>Unnamed: 10</th>\n",
       "      <th>Unnamed: 11</th>\n",
       "      <th>Unnamed: 12</th>\n",
       "      <th>Unnamed: 13</th>\n",
       "    </tr>\n",
       "  </thead>\n",
       "  <tbody>\n",
       "    <tr>\n",
       "      <th>0</th>\n",
       "      <td>The Cityscapes Dataset</td>\n",
       "      <td>NaN</td>\n",
       "      <td>NaN</td>\n",
       "      <td>NaN</td>\n",
       "      <td>NaN</td>\n",
       "      <td>NaN</td>\n",
       "      <td>NaN</td>\n",
       "      <td>NaN</td>\n",
       "      <td>NaN</td>\n",
       "      <td>NaN</td>\n",
       "      <td>NaN</td>\n",
       "      <td>NaN</td>\n",
       "      <td>NaN</td>\n",
       "      <td>NaN</td>\n",
       "    </tr>\n",
       "    <tr>\n",
       "      <th>1</th>\n",
       "      <td>----------------------</td>\n",
       "      <td>NaN</td>\n",
       "      <td>NaN</td>\n",
       "      <td>NaN</td>\n",
       "      <td>NaN</td>\n",
       "      <td>NaN</td>\n",
       "      <td>NaN</td>\n",
       "      <td>NaN</td>\n",
       "      <td>NaN</td>\n",
       "      <td>NaN</td>\n",
       "      <td>NaN</td>\n",
       "      <td>NaN</td>\n",
       "      <td>NaN</td>\n",
       "      <td>NaN</td>\n",
       "    </tr>\n",
       "    <tr>\n",
       "      <th>2</th>\n",
       "      <td>License agreement</td>\n",
       "      <td>NaN</td>\n",
       "      <td>NaN</td>\n",
       "      <td>NaN</td>\n",
       "      <td>NaN</td>\n",
       "      <td>NaN</td>\n",
       "      <td>NaN</td>\n",
       "      <td>NaN</td>\n",
       "      <td>NaN</td>\n",
       "      <td>NaN</td>\n",
       "      <td>NaN</td>\n",
       "      <td>NaN</td>\n",
       "      <td>NaN</td>\n",
       "      <td>NaN</td>\n",
       "    </tr>\n",
       "    <tr>\n",
       "      <th>3</th>\n",
       "      <td>-----------------</td>\n",
       "      <td>NaN</td>\n",
       "      <td>NaN</td>\n",
       "      <td>NaN</td>\n",
       "      <td>NaN</td>\n",
       "      <td>NaN</td>\n",
       "      <td>NaN</td>\n",
       "      <td>NaN</td>\n",
       "      <td>NaN</td>\n",
       "      <td>NaN</td>\n",
       "      <td>NaN</td>\n",
       "      <td>NaN</td>\n",
       "      <td>NaN</td>\n",
       "      <td>NaN</td>\n",
       "    </tr>\n",
       "    <tr>\n",
       "      <th>4</th>\n",
       "      <td>This dataset is made freely available to acade...</td>\n",
       "      <td>NaN</td>\n",
       "      <td>NaN</td>\n",
       "      <td>NaN</td>\n",
       "      <td>NaN</td>\n",
       "      <td>NaN</td>\n",
       "      <td>NaN</td>\n",
       "      <td>NaN</td>\n",
       "      <td>NaN</td>\n",
       "      <td>NaN</td>\n",
       "      <td>NaN</td>\n",
       "      <td>NaN</td>\n",
       "      <td>NaN</td>\n",
       "      <td>NaN</td>\n",
       "    </tr>\n",
       "  </tbody>\n",
       "</table>\n",
       "</div>"
      ],
      "text/plain": [
       "                              ---------------------- Unnamed: 1 Unnamed: 2  \\\n",
       "0                             The Cityscapes Dataset        NaN        NaN   \n",
       "1                             ----------------------        NaN        NaN   \n",
       "2                                  License agreement        NaN        NaN   \n",
       "3                                  -----------------        NaN        NaN   \n",
       "4  This dataset is made freely available to acade...        NaN        NaN   \n",
       "\n",
       "  Unnamed: 3 Unnamed: 4 Unnamed: 5 Unnamed: 6 Unnamed: 7 Unnamed: 8  \\\n",
       "0        NaN        NaN        NaN        NaN        NaN        NaN   \n",
       "1        NaN        NaN        NaN        NaN        NaN        NaN   \n",
       "2        NaN        NaN        NaN        NaN        NaN        NaN   \n",
       "3        NaN        NaN        NaN        NaN        NaN        NaN   \n",
       "4        NaN        NaN        NaN        NaN        NaN        NaN   \n",
       "\n",
       "  Unnamed: 9 Unnamed: 10 Unnamed: 11 Unnamed: 12 Unnamed: 13  \n",
       "0        NaN         NaN         NaN         NaN         NaN  \n",
       "1        NaN         NaN         NaN         NaN         NaN  \n",
       "2        NaN         NaN         NaN         NaN         NaN  \n",
       "3        NaN         NaN         NaN         NaN         NaN  \n",
       "4        NaN         NaN         NaN         NaN         NaN  "
      ]
     },
     "metadata": {},
     "output_type": "display_data"
    }
   ],
   "source": [
    "data=pd.read_fwf(r'E:\\license.txt')\n",
    "df=pd.DataFrame(data)\n",
    "display(df.head(5))"
   ]
  },
  {
   "cell_type": "code",
   "execution_count": 19,
   "id": "cbd9386b",
   "metadata": {},
   "outputs": [
    {
     "name": "stdout",
     "output_type": "stream",
     "text": [
      "<ns0:project xmlns:ns0=\"http://maven.apache.org/POM/4.0.0\" xmlns:xsi=\"http://www.w3.org/2001/XMLSchema-instance\" xsi:schemaLocation=\"http://maven.apache.org/POM/4.0.0 http://maven.apache.org/xsd/maven-4.0.0.xsd\">\n",
      "    <ns0:modelVersion>4.0.0</ns0:modelVersion>\n",
      "    <ns0:groupId>com.mycompany</ns0:groupId>\n",
      "    <ns0:artifactId>mavenproject2</ns0:artifactId>\n",
      "    <ns0:version>1.0-SNAPSHOT</ns0:version>\n",
      "    <ns0:packaging>jar</ns0:packaging>\n",
      "    <ns0:properties>\n",
      "        <ns0:project.build.sourceEncoding>UTF-8</ns0:project.build.sourceEncoding>\n",
      "        <ns0:maven.compiler.source>1.7</ns0:maven.compiler.source>\n",
      "        <ns0:maven.compiler.target>1.7</ns0:maven.compiler.target>\n",
      "    </ns0:properties>\n",
      "</ns0:project>\n"
     ]
    }
   ],
   "source": [
    "import xml.etree.ElementTree as ET\n",
    "\n",
    "xml_file_path = r'E:\\pom.xml'\n",
    "tree = ET.parse(xml_file_path)\n",
    "root = tree.getroot()\n",
    "xml_data = ET.tostring(root, encoding='utf-8').decode('utf-8')\n",
    "print(xml_data[:])"
   ]
  },
  {
   "cell_type": "code",
   "execution_count": null,
   "id": "58359cdf",
   "metadata": {},
   "outputs": [],
   "source": [
    "import xml.etree.ElementTree as ET\n",
    "xml_file_path = r'E:\\pom.xml'\n",
    "tree = ET.parse(xml_file_path)\n",
    "root = tree.getroot()\n",
    "def parse_element(element):\n",
    "    # Recursively convert XML element and its children into a dictionary\n",
    "    result = {}\n",
    "    for child in element:\n",
    "        if child.tag in result:\n",
    "            if isinstance(result[child.tag], list):\n",
    "                result[child.tag].append(parse_element(child))\n",
    "            else:\n",
    "                result[child.tag] = [result[child.tag], parse_element(child)]\n",
    "        else:\n",
    "            result[child.tag] = parse_element(child) if len(child) > 0 else child.text\n",
    "    return result\n",
    "\n",
    "data_list = [parse_element(element) for element in root]\n",
    "df = pd.DataFrame(root)\n",
    "display(df.head(10))"
   ]
  },
  {
   "cell_type": "markdown",
   "id": "21241738",
   "metadata": {},
   "source": [
    "## JSON"
   ]
  },
  {
   "cell_type": "code",
   "execution_count": 55,
   "id": "a7d59808",
   "metadata": {},
   "outputs": [],
   "source": [
    "json_file_path = r'E:\\bmi.json'\n",
    "df.to_json(json_file_path, orient='records', lines=True)"
   ]
  },
  {
   "cell_type": "code",
   "execution_count": 58,
   "id": "ca559e40",
   "metadata": {},
   "outputs": [
    {
     "data": {
      "text/html": [
       "<div>\n",
       "<style scoped>\n",
       "    .dataframe tbody tr th:only-of-type {\n",
       "        vertical-align: middle;\n",
       "    }\n",
       "\n",
       "    .dataframe tbody tr th {\n",
       "        vertical-align: top;\n",
       "    }\n",
       "\n",
       "    .dataframe thead th {\n",
       "        text-align: right;\n",
       "    }\n",
       "</style>\n",
       "<table border=\"1\" class=\"dataframe\">\n",
       "  <thead>\n",
       "    <tr style=\"text-align: right;\">\n",
       "      <th></th>\n",
       "      <th>{\"Gender\":\"Male\"</th>\n",
       "      <th>Height:174</th>\n",
       "      <th>Weight:96</th>\n",
       "      <th>Index:4}</th>\n",
       "    </tr>\n",
       "  </thead>\n",
       "  <tbody>\n",
       "    <tr>\n",
       "      <th>0</th>\n",
       "      <td>{\"Gender\":\"Male\"</td>\n",
       "      <td>Height:189</td>\n",
       "      <td>Weight:87</td>\n",
       "      <td>Index:2}</td>\n",
       "    </tr>\n",
       "    <tr>\n",
       "      <th>1</th>\n",
       "      <td>{\"Gender\":\"Female\"</td>\n",
       "      <td>Height:185</td>\n",
       "      <td>Weight:110</td>\n",
       "      <td>Index:4}</td>\n",
       "    </tr>\n",
       "    <tr>\n",
       "      <th>2</th>\n",
       "      <td>{\"Gender\":\"Female\"</td>\n",
       "      <td>Height:195</td>\n",
       "      <td>Weight:104</td>\n",
       "      <td>Index:3}</td>\n",
       "    </tr>\n",
       "    <tr>\n",
       "      <th>3</th>\n",
       "      <td>{\"Gender\":\"Male\"</td>\n",
       "      <td>Height:149</td>\n",
       "      <td>Weight:61</td>\n",
       "      <td>Index:3}</td>\n",
       "    </tr>\n",
       "    <tr>\n",
       "      <th>4</th>\n",
       "      <td>{\"Gender\":\"Male\"</td>\n",
       "      <td>Height:189</td>\n",
       "      <td>Weight:104</td>\n",
       "      <td>Index:3}</td>\n",
       "    </tr>\n",
       "    <tr>\n",
       "      <th>5</th>\n",
       "      <td>{\"Gender\":\"Male\"</td>\n",
       "      <td>Height:147</td>\n",
       "      <td>Weight:92</td>\n",
       "      <td>Index:5}</td>\n",
       "    </tr>\n",
       "    <tr>\n",
       "      <th>6</th>\n",
       "      <td>{\"Gender\":\"Male\"</td>\n",
       "      <td>Height:154</td>\n",
       "      <td>Weight:111</td>\n",
       "      <td>Index:5}</td>\n",
       "    </tr>\n",
       "    <tr>\n",
       "      <th>7</th>\n",
       "      <td>{\"Gender\":\"Male\"</td>\n",
       "      <td>Height:174</td>\n",
       "      <td>Weight:90</td>\n",
       "      <td>Index:3}</td>\n",
       "    </tr>\n",
       "    <tr>\n",
       "      <th>8</th>\n",
       "      <td>{\"Gender\":\"Female\"</td>\n",
       "      <td>Height:169</td>\n",
       "      <td>Weight:103</td>\n",
       "      <td>Index:4}</td>\n",
       "    </tr>\n",
       "    <tr>\n",
       "      <th>9</th>\n",
       "      <td>{\"Gender\":\"Male\"</td>\n",
       "      <td>Height:195</td>\n",
       "      <td>Weight:81</td>\n",
       "      <td>Index:2}</td>\n",
       "    </tr>\n",
       "  </tbody>\n",
       "</table>\n",
       "</div>"
      ],
      "text/plain": [
       "     {\"Gender\":\"Male\"  Height:174   Weight:96  Index:4}\n",
       "0    {\"Gender\":\"Male\"  Height:189   Weight:87  Index:2}\n",
       "1  {\"Gender\":\"Female\"  Height:185  Weight:110  Index:4}\n",
       "2  {\"Gender\":\"Female\"  Height:195  Weight:104  Index:3}\n",
       "3    {\"Gender\":\"Male\"  Height:149   Weight:61  Index:3}\n",
       "4    {\"Gender\":\"Male\"  Height:189  Weight:104  Index:3}\n",
       "5    {\"Gender\":\"Male\"  Height:147   Weight:92  Index:5}\n",
       "6    {\"Gender\":\"Male\"  Height:154  Weight:111  Index:5}\n",
       "7    {\"Gender\":\"Male\"  Height:174   Weight:90  Index:3}\n",
       "8  {\"Gender\":\"Female\"  Height:169  Weight:103  Index:4}\n",
       "9    {\"Gender\":\"Male\"  Height:195   Weight:81  Index:2}"
      ]
     },
     "metadata": {},
     "output_type": "display_data"
    }
   ],
   "source": [
    "dff = pd.read_csv(r'E:\\bmi.json')\n",
    "display(dff.head(10))"
   ]
  },
  {
   "cell_type": "markdown",
   "id": "31926c9c",
   "metadata": {},
   "source": [
    "## Mean Median Mode Standard deviation"
   ]
  },
  {
   "cell_type": "code",
   "execution_count": 10,
   "id": "2acb8172",
   "metadata": {},
   "outputs": [],
   "source": [
    "Height = 'Height'"
   ]
  },
  {
   "cell_type": "code",
   "execution_count": 16,
   "id": "b7c7b72e",
   "metadata": {},
   "outputs": [],
   "source": [
    "# Calculate mean, median, and mode\n",
    "mean_value = df[attribute_name].mean()\n",
    "median_value = df[attribute_name].median()\n",
    "mode_value = df[attribute_name].mode()[0]\n",
    "std_deviation = df[attribute_name].std()\n",
    "variance = df[attribute_name].var()\n",
    "quartiles = df[attribute_name].quantile([0.25, 0.5, 0.75])"
   ]
  },
  {
   "cell_type": "code",
   "execution_count": 18,
   "id": "b6498bb4",
   "metadata": {},
   "outputs": [
    {
     "name": "stdout",
     "output_type": "stream",
     "text": [
      "Mean Height: 169.944\n",
      "Median Height: 170.5\n",
      "Mode Height: 188\n",
      "Standard Deviation Height: 16.37526067959376\n",
      "Variance Height: 268.1491623246496\n",
      "1st Quartile Height: 156.0\n",
      "2nd Quartile Height: 170.5\n",
      "3rd Quartile Height: 184.0\n"
     ]
    }
   ],
   "source": [
    "attribute_name = 'Height'\n",
    "print(f\"Mean {attribute_name}: {mean_value}\")\n",
    "print(f\"Median {attribute_name}: {median_value}\")\n",
    "print(f\"Mode {attribute_name}: {mode_value}\")\n",
    "print(f\"Standard Deviation {attribute_name}: {std_deviation}\")\n",
    "print(f\"Variance {attribute_name}: {variance}\")\n",
    "print(f\"1st Quartile {attribute_name}: {quartiles[0.25]}\")\n",
    "print(f\"2nd Quartile {attribute_name}: {quartiles[0.5]}\")\n",
    "print(f\"3rd Quartile {attribute_name}: {quartiles[0.75]}\")"
   ]
  },
  {
   "cell_type": "markdown",
   "id": "02d258f6",
   "metadata": {},
   "source": [
    "## BAR GRAPH"
   ]
  },
  {
   "cell_type": "code",
   "execution_count": 22,
   "id": "6c24e593",
   "metadata": {},
   "outputs": [
    {
     "data": {
      "image/png": "[encoded data removed]",
      "text/plain": [
       "<Figure size 432x288 with 1 Axes>"
      ]
     },
     "metadata": {
      "needs_background": "light"
     },
     "output_type": "display_data"
    }
   ],
   "source": [
    "plt.bar(\n",
    "    ['Mean', 'Median', 'Mode', 'Std', 'Var', '1stQ', '2ndQ', '3rdQ'],\n",
    "    [mean_value, median_value, mode_value, std_deviation, variance, quartiles[0.25], quartiles[0.5], quartiles[0.75]]\n",
    ")\n",
    "\n",
    "plt.title(f\"Statistics for {attribute_name}\")\n",
    "plt.ylabel(\"Value\")\n",
    "plt.show()"
   ]
  },
  {
   "cell_type": "markdown",
   "id": "5f8f3ea2",
   "metadata": {},
   "source": [
    "## PIE CHART FOR REPRESENTING GENDER"
   ]
  },
  {
   "cell_type": "code",
   "execution_count": 24,
   "id": "aef04f7c",
   "metadata": {},
   "outputs": [
    {
     "data": {
      "image/png": "[encoded data removed]",
      "text/plain": [
       "<Figure size 432x288 with 1 Axes>"
      ]
     },
     "metadata": {},
     "output_type": "display_data"
    }
   ],
   "source": [
    "gender_counts = df['Gender'].value_counts()\n",
    "\n",
    "# Create a pie chart\n",
    "plt.pie(gender_counts, labels=gender_counts.index, autopct='%1.1f%%', startangle=140)\n",
    "plt.title(\"Gender Distribution\")\n",
    "\n",
    "plt.axis('equal')  # Equal aspect ratio ensures the pie chart is circular.\n",
    "plt.show()"
   ]
  },
  {
   "cell_type": "markdown",
   "id": "d7a193e8",
   "metadata": {},
   "source": [
    "## Box Plot:\n",
    "A box plot can help you understand the distribution of BMI values, showing the median, quartiles, and potential outliers."
   ]
  },
  {
   "cell_type": "code",
   "execution_count": 27,
   "id": "1fbad30d",
   "metadata": {},
   "outputs": [
    {
     "data": {
      "image/png": "[encoded data removed]",
      "text/plain": [
       "<Figure size 432x288 with 1 Axes>"
      ]
     },
     "metadata": {
      "needs_background": "light"
     },
     "output_type": "display_data"
    }
   ],
   "source": [
    "plt.boxplot(df['Index'])\n",
    "plt.ylabel('Index')\n",
    "plt.title('Box Plot of BMI')\n",
    "plt.show()"
   ]
  },
  {
   "cell_type": "markdown",
   "id": "1cf4faf4",
   "metadata": {},
   "source": [
    "## Scatter Plot:\n",
    "If you want to visualize the relationship between BMI and other variables, such as height and weight, you can create scatter plots."
   ]
  },
  {
   "cell_type": "code",
   "execution_count": 30,
   "id": "6dfb76ce",
   "metadata": {},
   "outputs": [
    {
     "data": {
      "image/png": "[encoded data removed]",
      "text/plain": [
       "<Figure size 432x288 with 1 Axes>"
      ]
     },
     "metadata": {
      "needs_background": "light"
     },
     "output_type": "display_data"
    }
   ],
   "source": [
    "plt.scatter(df['Height'], df['Index'], label='Height', alpha=0.5)\n",
    "plt.scatter(df['Weight'], df['Index'], label='Weight', alpha=0.5)\n",
    "plt.xlabel('Value')\n",
    "plt.ylabel('Index')\n",
    "plt.title('Scatter Plot of BMI with Height and Weight')\n",
    "plt.legend()\n",
    "plt.show()"
   ]
  },
  {
   "cell_type": "markdown",
   "id": "4fd8807e",
   "metadata": {},
   "source": [
    "## Histogram: \n",
    "You can create histograms to visualize the distribution of BMI values. This will give you an idea of how the BMI values are spread across different ranges."
   ]
  },
  {
   "cell_type": "code",
   "execution_count": 29,
   "id": "ab0d9375",
   "metadata": {},
   "outputs": [
    {
     "data": {
      "image/png": "[encoded data removed]",
      "text/plain": [
       "<Figure size 432x288 with 1 Axes>"
      ]
     },
     "metadata": {
      "needs_background": "light"
     },
     "output_type": "display_data"
    }
   ],
   "source": [
    "plt.hist(df['Index'], bins=20, edgecolor='k')\n",
    "plt.xlabel('BMI')\n",
    "plt.ylabel('Frequency')\n",
    "plt.title('BMI Distribution')\n",
    "plt.show()"
   ]
  },
  {
   "cell_type": "code",
   "execution_count": 42,
   "id": "bcae9c93",
   "metadata": {},
   "outputs": [
    {
     "name": "stdout",
     "output_type": "stream",
     "text": [
      "  Variable      Statistic       Value\n",
      "0   Height           Mean  169.944000\n",
      "1   Height         Median  170.500000\n",
      "2   Height           Mode  188.000000\n",
      "3   Height  Std Deviation   16.375261\n"
     ]
    }
   ],
   "source": [
    "# Create a dictionary with the calculated values\n",
    "data = {\n",
    "    'Variable': ['Height', 'Height', 'Height', 'Height'],\n",
    "    'Statistic': ['Mean', 'Median', 'Mode', 'Std Deviation'],\n",
    "    'Value': [mean_value, median_value, mode_value, std_deviation]\n",
    "}\n",
    "\n",
    "# Create the DataFrame\n",
    "df_mmm = pd.DataFrame(data)\n",
    "\n",
    "print(df_mmm)"
   ]
  },
  {
   "cell_type": "markdown",
   "id": "d2ffcdc9",
   "metadata": {},
   "source": [
    "## Violin Plot:\n",
    "A violin plot combines a box plot with a rotated kernel density plot. It shows the distribution of the data and includes information about the quartiles, median, and spread."
   ]
  },
  {
   "cell_type": "code",
   "execution_count": 43,
   "id": "cba4e363",
   "metadata": {},
   "outputs": [
    {
     "data": {
      "image/png": "[encoded data removed]",
      "text/plain": [
       "<Figure size 720x432 with 1 Axes>"
      ]
     },
     "metadata": {},
     "output_type": "display_data"
    }
   ],
   "source": [
    "sns.set(style=\"whitegrid\")\n",
    "plt.figure(figsize=(10, 6))\n",
    "\n",
    "sns.violinplot(x='Variable', y='Value', data=df_mmm, inner='quartile')\n",
    "plt.title('Violin Plot of Mean, Median, Mode, and Std Dev')\n",
    "plt.xlabel('Variable')\n",
    "plt.ylabel('Value')\n",
    "plt.show()"
   ]
  },
  {
   "cell_type": "markdown",
   "id": "1520dbdb",
   "metadata": {},
   "source": [
    "## Point Plot:\n",
    "A point plot can show the mean and median as points along with error bars indicating the spread (e.g., standard deviation) of the data."
   ]
  },
  {
   "cell_type": "code",
   "execution_count": 44,
   "id": "6150d968",
   "metadata": {},
   "outputs": [
    {
     "data": {
      "image/png": "[encoded data removed]",
      "text/plain": [
       "<Figure size 720x432 with 1 Axes>"
      ]
     },
     "metadata": {},
     "output_type": "display_data"
    }
   ],
   "source": [
    "sns.set(style=\"whitegrid\")\n",
    "plt.figure(figsize=(10, 6))\n",
    "\n",
    "sns.pointplot(x='Variable', y='Value', data=df_mmm, ci='sd')\n",
    "plt.title('Point Plot of Mean, Median, Mode, and Std Dev')\n",
    "plt.xlabel('Variable')\n",
    "plt.ylabel('Value')\n",
    "plt.show()"
   ]
  },
  {
   "cell_type": "code",
   "execution_count": null,
   "id": "5cca6812",
   "metadata": {},
   "outputs": [],
   "source": []
  }
 ],
 "metadata": {
  "kernelspec": {
   "display_name": "Python 3 (ipykernel)",
   "language": "python",
   "name": "python3"
  },
  "language_info": {
   "codemirror_mode": {
    "name": "ipython",
    "version": 3
   },
   "file_extension": ".py",
   "mimetype": "text/x-python",
   "name": "python",
   "nbconvert_exporter": "python",
   "pygments_lexer": "ipython3",
   "version": "3.10.9"
  }
 },
 "nbformat": 4,
 "nbformat_minor": 5
}
